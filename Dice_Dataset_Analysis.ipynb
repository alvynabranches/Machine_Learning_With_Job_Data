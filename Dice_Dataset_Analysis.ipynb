{
 "cells": [
  {
   "cell_type": "code",
   "execution_count": 1,
   "metadata": {},
   "outputs": [],
   "source": [
    "import numpy as np\n",
    "import pandas as pd"
   ]
  },
  {
   "cell_type": "code",
   "execution_count": 2,
   "metadata": {},
   "outputs": [],
   "source": [
    "df = pd.read_csv('dice_com-job_us_sample.csv').drop(['site_name', 'advertiserurl', 'uniq_id'], axis=1).dropna()"
   ]
  },
  {
   "cell_type": "code",
   "execution_count": 3,
   "metadata": {},
   "outputs": [
    {
     "data": {
      "text/html": [
       "<div>\n",
       "<style scoped>\n",
       "    .dataframe tbody tr th:only-of-type {\n",
       "        vertical-align: middle;\n",
       "    }\n",
       "\n",
       "    .dataframe tbody tr th {\n",
       "        vertical-align: top;\n",
       "    }\n",
       "\n",
       "    .dataframe thead th {\n",
       "        text-align: right;\n",
       "    }\n",
       "</style>\n",
       "<table border=\"1\" class=\"dataframe\">\n",
       "  <thead>\n",
       "    <tr style=\"text-align: right;\">\n",
       "      <th></th>\n",
       "      <th>company</th>\n",
       "      <th>employmenttype_jobstatus</th>\n",
       "      <th>jobdescription</th>\n",
       "      <th>jobid</th>\n",
       "      <th>joblocation_address</th>\n",
       "      <th>jobtitle</th>\n",
       "      <th>postdate</th>\n",
       "      <th>shift</th>\n",
       "      <th>skills</th>\n",
       "    </tr>\n",
       "  </thead>\n",
       "  <tbody>\n",
       "    <tr>\n",
       "      <th>0</th>\n",
       "      <td>Digital Intelligence Systems, LLC</td>\n",
       "      <td>C2H Corp-To-Corp, C2H Independent, C2H W2, 3 M...</td>\n",
       "      <td>Looking for Selenium engineers...must have sol...</td>\n",
       "      <td>Dice Id : 10110693</td>\n",
       "      <td>Atlanta, GA</td>\n",
       "      <td>AUTOMATION TEST ENGINEER</td>\n",
       "      <td>1 hour ago</td>\n",
       "      <td>Telecommuting not available|Travel not required</td>\n",
       "      <td>SEE BELOW</td>\n",
       "    </tr>\n",
       "    <tr>\n",
       "      <th>1</th>\n",
       "      <td>University of Chicago/IT Services</td>\n",
       "      <td>Full Time</td>\n",
       "      <td>The University of Chicago has a rapidly growin...</td>\n",
       "      <td>Dice Id : 10114469</td>\n",
       "      <td>Chicago, IL</td>\n",
       "      <td>Information Security Engineer</td>\n",
       "      <td>1 week ago</td>\n",
       "      <td>Telecommuting not available|Travel not required</td>\n",
       "      <td>linux/unix, network monitoring, incident respo...</td>\n",
       "    </tr>\n",
       "    <tr>\n",
       "      <th>2</th>\n",
       "      <td>Galaxy Systems, Inc.</td>\n",
       "      <td>Full Time</td>\n",
       "      <td>GalaxE.SolutionsEvery day, our solutions affec...</td>\n",
       "      <td>Dice Id : CXGALXYS</td>\n",
       "      <td>Schaumburg, IL</td>\n",
       "      <td>Business Solutions Architect</td>\n",
       "      <td>2 weeks ago</td>\n",
       "      <td>Telecommuting not available|Travel not required</td>\n",
       "      <td>Enterprise Solutions Architecture, business in...</td>\n",
       "    </tr>\n",
       "    <tr>\n",
       "      <th>3</th>\n",
       "      <td>TransTech LLC</td>\n",
       "      <td>Full Time</td>\n",
       "      <td>Java DeveloperFull-time/direct-hireBolingbrook...</td>\n",
       "      <td>Dice Id : 10113627</td>\n",
       "      <td>Bolingbrook, IL</td>\n",
       "      <td>Java Developer (mid level)- FT- GREAT culture,...</td>\n",
       "      <td>2 weeks ago</td>\n",
       "      <td>Telecommuting not available|Travel not required</td>\n",
       "      <td>Please see job description</td>\n",
       "    </tr>\n",
       "    <tr>\n",
       "      <th>4</th>\n",
       "      <td>Matrix Resources</td>\n",
       "      <td>Full Time</td>\n",
       "      <td>Midtown based high tech firm has an immediate ...</td>\n",
       "      <td>Dice Id : matrixga</td>\n",
       "      <td>Atlanta, GA</td>\n",
       "      <td>DevOps Engineer</td>\n",
       "      <td>48 minutes ago</td>\n",
       "      <td>Telecommuting not available|Travel not required</td>\n",
       "      <td>Configuration Management, Developer, Linux, Ma...</td>\n",
       "    </tr>\n",
       "    <tr>\n",
       "      <th>...</th>\n",
       "      <td>...</td>\n",
       "      <td>...</td>\n",
       "      <td>...</td>\n",
       "      <td>...</td>\n",
       "      <td>...</td>\n",
       "      <td>...</td>\n",
       "      <td>...</td>\n",
       "      <td>...</td>\n",
       "      <td>...</td>\n",
       "    </tr>\n",
       "    <tr>\n",
       "      <th>21995</th>\n",
       "      <td>IAC Publishing</td>\n",
       "      <td>Full Time</td>\n",
       "      <td>Company Description We are searching for a ta...</td>\n",
       "      <td>Dice Id : 10112803</td>\n",
       "      <td>Oakland, CA</td>\n",
       "      <td>Web Designer</td>\n",
       "      <td>3 weeks ago</td>\n",
       "      <td>Telecommuting not available|Travel not required</td>\n",
       "      <td>UI/UX mobile apps, interaction design, digital...</td>\n",
       "    </tr>\n",
       "    <tr>\n",
       "      <th>21996</th>\n",
       "      <td>Omega Solutions Inc</td>\n",
       "      <td>Full Time</td>\n",
       "      <td>CONTACT - priya@omegasolutioninc.com / 408-45...</td>\n",
       "      <td>Dice Id : 10289500</td>\n",
       "      <td>San Francisco, CA</td>\n",
       "      <td>Senior Front End Web Developer - Full Time at ...</td>\n",
       "      <td>3 weeks ago</td>\n",
       "      <td>Telecommuting not available|Travel not required</td>\n",
       "      <td>JavaScript, HTML5, CSS3, Bootstrap, AJAX, Reac...</td>\n",
       "    </tr>\n",
       "    <tr>\n",
       "      <th>21997</th>\n",
       "      <td>San Francisco Health Plan</td>\n",
       "      <td>Full Time</td>\n",
       "      <td>Do you take pride in your work knowing that th...</td>\n",
       "      <td>Dice Id : 10115761</td>\n",
       "      <td>San Francisco, CA</td>\n",
       "      <td>QA Analyst</td>\n",
       "      <td>2 weeks ago</td>\n",
       "      <td>Telecommuting not available|Travel not required</td>\n",
       "      <td>SDLC, ALM, SQL, T-SQL, RedGate, Team Foundatio...</td>\n",
       "    </tr>\n",
       "    <tr>\n",
       "      <th>21998</th>\n",
       "      <td>IAC Publishing</td>\n",
       "      <td>Full Time</td>\n",
       "      <td>Company Description What We Can Offer YouAs th...</td>\n",
       "      <td>Dice Id : 10112803</td>\n",
       "      <td>Oakland, CA</td>\n",
       "      <td>Tech Lead-Full Stack</td>\n",
       "      <td>2 weeks ago</td>\n",
       "      <td>Telecommuting not available|Travel not required</td>\n",
       "      <td>Python, Ruby, Go, Clojure, Java, NoSQL-Databas...</td>\n",
       "    </tr>\n",
       "    <tr>\n",
       "      <th>21999</th>\n",
       "      <td>Technology Resource Group</td>\n",
       "      <td>Full Time, Full Time</td>\n",
       "      <td>Experience in C/C++ ProgrammingDevelopment exp...</td>\n",
       "      <td>Dice Id : 90734436</td>\n",
       "      <td>Santa Clara, CA</td>\n",
       "      <td>C/C++ Programmer</td>\n",
       "      <td>2 weeks ago</td>\n",
       "      <td>Telecommuting not available|Travel not required</td>\n",
       "      <td>Null</td>\n",
       "    </tr>\n",
       "  </tbody>\n",
       "</table>\n",
       "<p>21542 rows × 9 columns</p>\n",
       "</div>"
      ],
      "text/plain": [
       "                                 company  \\\n",
       "0      Digital Intelligence Systems, LLC   \n",
       "1      University of Chicago/IT Services   \n",
       "2                   Galaxy Systems, Inc.   \n",
       "3                          TransTech LLC   \n",
       "4                       Matrix Resources   \n",
       "...                                  ...   \n",
       "21995                     IAC Publishing   \n",
       "21996                Omega Solutions Inc   \n",
       "21997          San Francisco Health Plan   \n",
       "21998                     IAC Publishing   \n",
       "21999          Technology Resource Group   \n",
       "\n",
       "                                employmenttype_jobstatus  \\\n",
       "0      C2H Corp-To-Corp, C2H Independent, C2H W2, 3 M...   \n",
       "1                                              Full Time   \n",
       "2                                              Full Time   \n",
       "3                                              Full Time   \n",
       "4                                              Full Time   \n",
       "...                                                  ...   \n",
       "21995                                          Full Time   \n",
       "21996                                          Full Time   \n",
       "21997                                          Full Time   \n",
       "21998                                          Full Time   \n",
       "21999                               Full Time, Full Time   \n",
       "\n",
       "                                          jobdescription               jobid  \\\n",
       "0      Looking for Selenium engineers...must have sol...  Dice Id : 10110693   \n",
       "1      The University of Chicago has a rapidly growin...  Dice Id : 10114469   \n",
       "2      GalaxE.SolutionsEvery day, our solutions affec...  Dice Id : CXGALXYS   \n",
       "3      Java DeveloperFull-time/direct-hireBolingbrook...  Dice Id : 10113627   \n",
       "4      Midtown based high tech firm has an immediate ...  Dice Id : matrixga   \n",
       "...                                                  ...                 ...   \n",
       "21995   Company Description We are searching for a ta...  Dice Id : 10112803   \n",
       "21996   CONTACT - priya@omegasolutioninc.com / 408-45...  Dice Id : 10289500   \n",
       "21997  Do you take pride in your work knowing that th...  Dice Id : 10115761   \n",
       "21998  Company Description What We Can Offer YouAs th...  Dice Id : 10112803   \n",
       "21999  Experience in C/C++ ProgrammingDevelopment exp...  Dice Id : 90734436   \n",
       "\n",
       "      joblocation_address                                           jobtitle  \\\n",
       "0             Atlanta, GA                           AUTOMATION TEST ENGINEER   \n",
       "1             Chicago, IL                      Information Security Engineer   \n",
       "2          Schaumburg, IL                       Business Solutions Architect   \n",
       "3         Bolingbrook, IL  Java Developer (mid level)- FT- GREAT culture,...   \n",
       "4             Atlanta, GA                                    DevOps Engineer   \n",
       "...                   ...                                                ...   \n",
       "21995         Oakland, CA                                       Web Designer   \n",
       "21996   San Francisco, CA  Senior Front End Web Developer - Full Time at ...   \n",
       "21997   San Francisco, CA                                         QA Analyst   \n",
       "21998         Oakland, CA                               Tech Lead-Full Stack   \n",
       "21999     Santa Clara, CA                                   C/C++ Programmer   \n",
       "\n",
       "             postdate                                            shift  \\\n",
       "0          1 hour ago  Telecommuting not available|Travel not required   \n",
       "1          1 week ago  Telecommuting not available|Travel not required   \n",
       "2         2 weeks ago  Telecommuting not available|Travel not required   \n",
       "3         2 weeks ago  Telecommuting not available|Travel not required   \n",
       "4      48 minutes ago  Telecommuting not available|Travel not required   \n",
       "...               ...                                              ...   \n",
       "21995     3 weeks ago  Telecommuting not available|Travel not required   \n",
       "21996     3 weeks ago  Telecommuting not available|Travel not required   \n",
       "21997     2 weeks ago  Telecommuting not available|Travel not required   \n",
       "21998     2 weeks ago  Telecommuting not available|Travel not required   \n",
       "21999     2 weeks ago  Telecommuting not available|Travel not required   \n",
       "\n",
       "                                                  skills  \n",
       "0                                              SEE BELOW  \n",
       "1      linux/unix, network monitoring, incident respo...  \n",
       "2      Enterprise Solutions Architecture, business in...  \n",
       "3                             Please see job description  \n",
       "4      Configuration Management, Developer, Linux, Ma...  \n",
       "...                                                  ...  \n",
       "21995  UI/UX mobile apps, interaction design, digital...  \n",
       "21996  JavaScript, HTML5, CSS3, Bootstrap, AJAX, Reac...  \n",
       "21997  SDLC, ALM, SQL, T-SQL, RedGate, Team Foundatio...  \n",
       "21998  Python, Ruby, Go, Clojure, Java, NoSQL-Databas...  \n",
       "21999                                               Null  \n",
       "\n",
       "[21542 rows x 9 columns]"
      ]
     },
     "execution_count": 3,
     "metadata": {},
     "output_type": "execute_result"
    }
   ],
   "source": [
    "df"
   ]
  },
  {
   "cell_type": "code",
   "execution_count": 4,
   "metadata": {},
   "outputs": [
    {
     "data": {
      "text/plain": [
       "'16 hours ago'"
      ]
     },
     "execution_count": 4,
     "metadata": {},
     "output_type": "execute_result"
    }
   ],
   "source": [
    "df['postdate'].unique()[np.random.randint(0, df['postdate'].nunique())]"
   ]
  },
  {
   "cell_type": "code",
   "execution_count": 5,
   "metadata": {},
   "outputs": [
    {
     "data": {
      "text/plain": [
       "(21542, 9)"
      ]
     },
     "execution_count": 5,
     "metadata": {},
     "output_type": "execute_result"
    }
   ],
   "source": [
    "df.shape"
   ]
  },
  {
   "cell_type": "code",
   "execution_count": 6,
   "metadata": {},
   "outputs": [
    {
     "data": {
      "text/plain": [
       "company                      50\n",
       "employmenttype_jobstatus    230\n",
       "jobdescription                0\n",
       "jobid                         0\n",
       "joblocation_address           3\n",
       "jobtitle                      0\n",
       "postdate                      0\n",
       "shift                       357\n",
       "skills                       43\n",
       "dtype: int64"
      ]
     },
     "execution_count": 6,
     "metadata": {},
     "output_type": "execute_result"
    }
   ],
   "source": [
    "pd.read_csv('dice_com-job_us_sample.csv').drop(['site_name', 'advertiserurl', 'uniq_id'], axis=1).isnull().sum()"
   ]
  },
  {
   "cell_type": "code",
   "execution_count": 7,
   "metadata": {},
   "outputs": [
    {
     "data": {
      "text/plain": [
       "Index(['company', 'employmenttype_jobstatus', 'jobdescription', 'jobid',\n",
       "       'joblocation_address', 'jobtitle', 'postdate', 'shift', 'skills'],\n",
       "      dtype='object')"
      ]
     },
     "execution_count": 7,
     "metadata": {},
     "output_type": "execute_result"
    }
   ],
   "source": [
    "df.columns"
   ]
  },
  {
   "cell_type": "code",
   "execution_count": 8,
   "metadata": {},
   "outputs": [
    {
     "data": {
      "text/plain": [
       "4240"
      ]
     },
     "execution_count": 8,
     "metadata": {},
     "output_type": "execute_result"
    }
   ],
   "source": [
    "df.company.nunique()"
   ]
  },
  {
   "cell_type": "code",
   "execution_count": 9,
   "metadata": {},
   "outputs": [
    {
     "data": {
      "text/plain": [
       "2914"
      ]
     },
     "execution_count": 9,
     "metadata": {},
     "output_type": "execute_result"
    }
   ],
   "source": [
    "df.employmenttype_jobstatus.nunique()"
   ]
  },
  {
   "cell_type": "code",
   "execution_count": 10,
   "metadata": {},
   "outputs": [
    {
     "data": {
      "text/plain": [
       "20084"
      ]
     },
     "execution_count": 10,
     "metadata": {},
     "output_type": "execute_result"
    }
   ],
   "source": [
    "df.jobdescription.nunique()"
   ]
  },
  {
   "cell_type": "code",
   "execution_count": 11,
   "metadata": {},
   "outputs": [
    {
     "data": {
      "text/plain": [
       "21542"
      ]
     },
     "execution_count": 11,
     "metadata": {},
     "output_type": "execute_result"
    }
   ],
   "source": [
    "df.shape[0]"
   ]
  },
  {
   "cell_type": "code",
   "execution_count": 12,
   "metadata": {},
   "outputs": [
    {
     "data": {
      "text/plain": [
       "4353"
      ]
     },
     "execution_count": 12,
     "metadata": {},
     "output_type": "execute_result"
    }
   ],
   "source": [
    "df.jobid.nunique()"
   ]
  },
  {
   "cell_type": "code",
   "execution_count": 13,
   "metadata": {},
   "outputs": [
    {
     "data": {
      "text/plain": [
       "1556"
      ]
     },
     "execution_count": 13,
     "metadata": {},
     "output_type": "execute_result"
    }
   ],
   "source": [
    "df.joblocation_address.nunique()"
   ]
  },
  {
   "cell_type": "code",
   "execution_count": 14,
   "metadata": {},
   "outputs": [
    {
     "data": {
      "text/plain": [
       "14930"
      ]
     },
     "execution_count": 14,
     "metadata": {},
     "output_type": "execute_result"
    }
   ],
   "source": [
    "df.jobtitle.nunique()"
   ]
  },
  {
   "cell_type": "code",
   "execution_count": 15,
   "metadata": {},
   "outputs": [
    {
     "data": {
      "text/plain": [
       "93"
      ]
     },
     "execution_count": 15,
     "metadata": {},
     "output_type": "execute_result"
    }
   ],
   "source": [
    "df.postdate.nunique()"
   ]
  },
  {
   "cell_type": "code",
   "execution_count": 16,
   "metadata": {},
   "outputs": [
    {
     "data": {
      "text/plain": [
       "20"
      ]
     },
     "execution_count": 16,
     "metadata": {},
     "output_type": "execute_result"
    }
   ],
   "source": [
    "df['shift'].nunique()"
   ]
  },
  {
   "cell_type": "code",
   "execution_count": 17,
   "metadata": {},
   "outputs": [
    {
     "data": {
      "text/plain": [
       "18857"
      ]
     },
     "execution_count": 17,
     "metadata": {},
     "output_type": "execute_result"
    }
   ],
   "source": [
    "df.skills.nunique()"
   ]
  },
  {
   "cell_type": "code",
   "execution_count": 18,
   "metadata": {},
   "outputs": [
    {
     "data": {
      "text/plain": [
       "'OpenStack, Docker, KVM, Linux, ONOS , Agile , SOA, Web Services , Cloud IaaS , SaaS , Spring Framework, OSGi , Java, Python , Linux'"
      ]
     },
     "execution_count": 18,
     "metadata": {},
     "output_type": "execute_result"
    }
   ],
   "source": [
    "df['skills'].unique()[np.random.randint(0, df['skills'].nunique())]"
   ]
  },
  {
   "cell_type": "code",
   "execution_count": 19,
   "metadata": {},
   "outputs": [
    {
     "data": {
      "text/plain": [
       "'Telecommuting not available|Travel required to 100%.'"
      ]
     },
     "execution_count": 19,
     "metadata": {},
     "output_type": "execute_result"
    }
   ],
   "source": [
    "df['shift'].unique()[np.random.randint(0, df['shift'].nunique())]"
   ]
  },
  {
   "cell_type": "code",
   "execution_count": 20,
   "metadata": {},
   "outputs": [
    {
     "data": {
      "text/plain": [
       "'1 week ago'"
      ]
     },
     "execution_count": 20,
     "metadata": {},
     "output_type": "execute_result"
    }
   ],
   "source": [
    "df['postdate'].unique()[np.random.randint(0, df['postdate'].nunique())]"
   ]
  },
  {
   "cell_type": "code",
   "execution_count": 21,
   "metadata": {},
   "outputs": [
    {
     "data": {
      "text/plain": [
       "'SOC/Security Analyst'"
      ]
     },
     "execution_count": 21,
     "metadata": {},
     "output_type": "execute_result"
    }
   ],
   "source": [
    "df['jobtitle'].unique()[np.random.randint(0, df['jobtitle'].nunique())]"
   ]
  },
  {
   "cell_type": "code",
   "execution_count": 22,
   "metadata": {},
   "outputs": [
    {
     "data": {
      "text/plain": [
       "\"KELLY IT has an opening for a SR. Web Developer to work with our client in Rancho Cordova, CAThis role is temp to hire.SUMMARYThe Senior Web Developer position is responsible for the design, creation, development, testing and support of an Error Tracking System. Senior Web Developer will have be working 60% on fronted development with tools such as HTML 5, JavaScript, CSS, and WCF. Provides oversight of all process, data flows and interfaces that feed content to all company websites or provide solutions/services externally to the company’s constituents. Leads the usability analysis of all websites to ensure members and other business constituents needs are met. Provides custom web application development using the .NET Framework, C#, VB.NET, ASP.NET, SQL Server and other advanced components of Microsoft technology. Works with business managers to create effective UI solutions that support business requirements.\\u2002\\u2002\\xa0SKILLS REQURIED5+ years’ experience as a web developerBachelor's Degree in Information Systems, Computer Science, or related field preferred; experience may substitute.NET FrameworkVB.NET (C# a plus)ASP.NETMust have experience with frontend tools such as Angular, Bootstrap, React, Knockout etc.Must have experience developing single page apps using tools such as Angular, Bootstrap, React, KnockoutQA and testing procedures, SQL Server,HTML 5, JavaScript, CSS, WCF.Data modelingWeb services developmentApplication architecture and integrationTesting and deploymentUser interface designProven ability to understand a customer's needsExperience developing technical requirements based on business imperatives.2+ years’ experience with Agile Development methodology.\\u2002\\u2002\\u2002\\u2002\\u2002\\xa0\\xa0If you are interested, please email your resume to norh098@kellyit.com\\xa0\""
      ]
     },
     "execution_count": 22,
     "metadata": {},
     "output_type": "execute_result"
    }
   ],
   "source": [
    "df['jobdescription'].unique()[np.random.randint(0, df['jobdescription'].nunique())]"
   ]
  },
  {
   "cell_type": "code",
   "execution_count": null,
   "metadata": {},
   "outputs": [],
   "source": []
  }
 ],
 "metadata": {
  "kernelspec": {
   "display_name": "Python 3",
   "language": "python",
   "name": "python3"
  },
  "language_info": {
   "codemirror_mode": {
    "name": "ipython",
    "version": 3
   },
   "file_extension": ".py",
   "mimetype": "text/x-python",
   "name": "python",
   "nbconvert_exporter": "python",
   "pygments_lexer": "ipython3",
   "version": "3.7.4"
  }
 },
 "nbformat": 4,
 "nbformat_minor": 2
}
