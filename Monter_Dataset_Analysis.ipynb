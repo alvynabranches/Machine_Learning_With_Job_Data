{
 "cells": [
  {
   "cell_type": "code",
   "execution_count": 1,
   "metadata": {},
   "outputs": [],
   "source": [
    "import numpy as np\n",
    "import pandas as pd"
   ]
  },
  {
   "cell_type": "code",
   "execution_count": 2,
   "metadata": {},
   "outputs": [],
   "source": [
    "df = pd.read_csv('monster_com-job_sample.csv')"
   ]
  },
  {
   "cell_type": "code",
   "execution_count": 3,
   "metadata": {},
   "outputs": [
    {
     "data": {
      "text/html": [
       "<div>\n",
       "<style scoped>\n",
       "    .dataframe tbody tr th:only-of-type {\n",
       "        vertical-align: middle;\n",
       "    }\n",
       "\n",
       "    .dataframe tbody tr th {\n",
       "        vertical-align: top;\n",
       "    }\n",
       "\n",
       "    .dataframe thead th {\n",
       "        text-align: right;\n",
       "    }\n",
       "</style>\n",
       "<table border=\"1\" class=\"dataframe\">\n",
       "  <thead>\n",
       "    <tr style=\"text-align: right;\">\n",
       "      <th></th>\n",
       "      <th>country</th>\n",
       "      <th>country_code</th>\n",
       "      <th>date_added</th>\n",
       "      <th>has_expired</th>\n",
       "      <th>job_board</th>\n",
       "      <th>job_description</th>\n",
       "      <th>job_title</th>\n",
       "      <th>job_type</th>\n",
       "      <th>location</th>\n",
       "      <th>organization</th>\n",
       "      <th>page_url</th>\n",
       "      <th>salary</th>\n",
       "      <th>sector</th>\n",
       "      <th>uniq_id</th>\n",
       "    </tr>\n",
       "  </thead>\n",
       "  <tbody>\n",
       "    <tr>\n",
       "      <th>0</th>\n",
       "      <td>United States of America</td>\n",
       "      <td>US</td>\n",
       "      <td>NaN</td>\n",
       "      <td>No</td>\n",
       "      <td>jobs.monster.com</td>\n",
       "      <td>TeamSoft is seeing an IT Support Specialist to...</td>\n",
       "      <td>IT Support Technician Job in Madison</td>\n",
       "      <td>Full Time Employee</td>\n",
       "      <td>Madison, WI 53702</td>\n",
       "      <td>NaN</td>\n",
       "      <td>http://jobview.monster.com/it-support-technici...</td>\n",
       "      <td>NaN</td>\n",
       "      <td>IT/Software Development</td>\n",
       "      <td>11d599f229a80023d2f40e7c52cd941e</td>\n",
       "    </tr>\n",
       "    <tr>\n",
       "      <th>1</th>\n",
       "      <td>United States of America</td>\n",
       "      <td>US</td>\n",
       "      <td>NaN</td>\n",
       "      <td>No</td>\n",
       "      <td>jobs.monster.com</td>\n",
       "      <td>The Wisconsin State Journal is seeking a flexi...</td>\n",
       "      <td>Business Reporter/Editor Job in Madison</td>\n",
       "      <td>Full Time</td>\n",
       "      <td>Madison, WI 53708</td>\n",
       "      <td>Printing and Publishing</td>\n",
       "      <td>http://jobview.monster.com/business-reporter-e...</td>\n",
       "      <td>NaN</td>\n",
       "      <td>NaN</td>\n",
       "      <td>e4cbb126dabf22159aff90223243ff2a</td>\n",
       "    </tr>\n",
       "    <tr>\n",
       "      <th>2</th>\n",
       "      <td>United States of America</td>\n",
       "      <td>US</td>\n",
       "      <td>NaN</td>\n",
       "      <td>No</td>\n",
       "      <td>jobs.monster.com</td>\n",
       "      <td>Report this job About the Job DePuy Synthes Co...</td>\n",
       "      <td>Johnson &amp; Johnson Family of Companies Job Appl...</td>\n",
       "      <td>Full Time, Employee</td>\n",
       "      <td>DePuy Synthes Companies is a member of Johnson...</td>\n",
       "      <td>Personal and Household Services</td>\n",
       "      <td>http://jobview.monster.com/senior-training-lea...</td>\n",
       "      <td>NaN</td>\n",
       "      <td>NaN</td>\n",
       "      <td>839106b353877fa3d896ffb9c1fe01c0</td>\n",
       "    </tr>\n",
       "    <tr>\n",
       "      <th>3</th>\n",
       "      <td>United States of America</td>\n",
       "      <td>US</td>\n",
       "      <td>NaN</td>\n",
       "      <td>No</td>\n",
       "      <td>jobs.monster.com</td>\n",
       "      <td>Why Join Altec? If you’re considering a career...</td>\n",
       "      <td>Engineer - Quality Job in Dixon</td>\n",
       "      <td>Full Time</td>\n",
       "      <td>Dixon, CA</td>\n",
       "      <td>Altec Industries</td>\n",
       "      <td>http://jobview.monster.com/engineer-quality-jo...</td>\n",
       "      <td>NaN</td>\n",
       "      <td>Experienced (Non-Manager)</td>\n",
       "      <td>58435fcab804439efdcaa7ecca0fd783</td>\n",
       "    </tr>\n",
       "    <tr>\n",
       "      <th>4</th>\n",
       "      <td>United States of America</td>\n",
       "      <td>US</td>\n",
       "      <td>NaN</td>\n",
       "      <td>No</td>\n",
       "      <td>jobs.monster.com</td>\n",
       "      <td>Position ID#  76162 # Positions  1 State  CT C...</td>\n",
       "      <td>Shift Supervisor - Part-Time Job in Camphill</td>\n",
       "      <td>Full Time Employee</td>\n",
       "      <td>Camphill, PA</td>\n",
       "      <td>Retail</td>\n",
       "      <td>http://jobview.monster.com/shift-supervisor-pa...</td>\n",
       "      <td>NaN</td>\n",
       "      <td>Project/Program Management</td>\n",
       "      <td>64d0272dc8496abfd9523a8df63c184c</td>\n",
       "    </tr>\n",
       "    <tr>\n",
       "      <th>...</th>\n",
       "      <td>...</td>\n",
       "      <td>...</td>\n",
       "      <td>...</td>\n",
       "      <td>...</td>\n",
       "      <td>...</td>\n",
       "      <td>...</td>\n",
       "      <td>...</td>\n",
       "      <td>...</td>\n",
       "      <td>...</td>\n",
       "      <td>...</td>\n",
       "      <td>...</td>\n",
       "      <td>...</td>\n",
       "      <td>...</td>\n",
       "      <td>...</td>\n",
       "    </tr>\n",
       "    <tr>\n",
       "      <th>21995</th>\n",
       "      <td>United States of America</td>\n",
       "      <td>US</td>\n",
       "      <td>NaN</td>\n",
       "      <td>No</td>\n",
       "      <td>jobs.monster.com</td>\n",
       "      <td>This is a major premier Cincinnati based finan...</td>\n",
       "      <td>Assistant Vice President - Controller Job in C...</td>\n",
       "      <td>Full Time</td>\n",
       "      <td>Cincinnati, OH</td>\n",
       "      <td>NaN</td>\n",
       "      <td>http://jobview.monster.com/Assistant-Vice-Pres...</td>\n",
       "      <td>120,000.00 - 160,000.00 $ /yearbonus</td>\n",
       "      <td>NaN</td>\n",
       "      <td>a80bc8cc3a90c17eef418963803bc640</td>\n",
       "    </tr>\n",
       "    <tr>\n",
       "      <th>21996</th>\n",
       "      <td>United States of America</td>\n",
       "      <td>US</td>\n",
       "      <td>NaN</td>\n",
       "      <td>No</td>\n",
       "      <td>jobs.monster.com</td>\n",
       "      <td>Luxury homebuilder in Cincinnati seeking multi...</td>\n",
       "      <td>Accountant Job in Cincinnati</td>\n",
       "      <td>Full Time</td>\n",
       "      <td>Cincinnati, OH 45236</td>\n",
       "      <td>Construction - Residential &amp; Commercial/Office</td>\n",
       "      <td>http://jobview.monster.com/Accountant-Job-Cinc...</td>\n",
       "      <td>45,000.00 - 60,000.00 $ /year</td>\n",
       "      <td>Manager (Manager/Supervisor of Staff)</td>\n",
       "      <td>419a3714be2b30a10f628de207d041de</td>\n",
       "    </tr>\n",
       "    <tr>\n",
       "      <th>21997</th>\n",
       "      <td>United States of America</td>\n",
       "      <td>US</td>\n",
       "      <td>NaN</td>\n",
       "      <td>No</td>\n",
       "      <td>jobs.monster.com</td>\n",
       "      <td>RE: Adobe AEM-          Client -          Loca...</td>\n",
       "      <td>AEM/CQ developer Job in Chicago</td>\n",
       "      <td>Full Time</td>\n",
       "      <td>Chicago, IL 60602</td>\n",
       "      <td>NaN</td>\n",
       "      <td>http://jobview.monster.com/AEM-CQ5-developer-J...</td>\n",
       "      <td>NaN</td>\n",
       "      <td>NaN</td>\n",
       "      <td>5a590350b73b2cec46b05750a208e345</td>\n",
       "    </tr>\n",
       "    <tr>\n",
       "      <th>21998</th>\n",
       "      <td>United States of America</td>\n",
       "      <td>US</td>\n",
       "      <td>NaN</td>\n",
       "      <td>No</td>\n",
       "      <td>jobs.monster.com</td>\n",
       "      <td>Jernberg Industries was established in 1937 an...</td>\n",
       "      <td>Electrician - Experienced Forging Electrician ...</td>\n",
       "      <td>Full Time Employee</td>\n",
       "      <td>Chicago, IL 60609</td>\n",
       "      <td>Jernberg Industries, Inc.</td>\n",
       "      <td>http://jobview.monster.com/Electrician-Experie...</td>\n",
       "      <td>25.00 - 28.00 $ /hour</td>\n",
       "      <td>Installation/Maintenance/Repair</td>\n",
       "      <td>40161cf61c283af9dc2b0a62947a5f1b</td>\n",
       "    </tr>\n",
       "    <tr>\n",
       "      <th>21999</th>\n",
       "      <td>United States of America</td>\n",
       "      <td>US</td>\n",
       "      <td>NaN</td>\n",
       "      <td>No</td>\n",
       "      <td>jobs.monster.com</td>\n",
       "      <td>Contract AdministratorCan you be the point per...</td>\n",
       "      <td>Contract Administrator Job in Cincinnati</td>\n",
       "      <td>Full Time</td>\n",
       "      <td>Cincinnati, OH</td>\n",
       "      <td>NaN</td>\n",
       "      <td>http://jobview.monster.com/Contract-Administra...</td>\n",
       "      <td>40,000.00 - 46,000.00 $ /year+ annual bonus (u...</td>\n",
       "      <td>Experienced (Non-Manager)</td>\n",
       "      <td>cb49f16ad72627b109e434e0cac97f7a</td>\n",
       "    </tr>\n",
       "  </tbody>\n",
       "</table>\n",
       "<p>22000 rows × 14 columns</p>\n",
       "</div>"
      ],
      "text/plain": [
       "                        country country_code date_added has_expired  \\\n",
       "0      United States of America           US        NaN          No   \n",
       "1      United States of America           US        NaN          No   \n",
       "2      United States of America           US        NaN          No   \n",
       "3      United States of America           US        NaN          No   \n",
       "4      United States of America           US        NaN          No   \n",
       "...                         ...          ...        ...         ...   \n",
       "21995  United States of America           US        NaN          No   \n",
       "21996  United States of America           US        NaN          No   \n",
       "21997  United States of America           US        NaN          No   \n",
       "21998  United States of America           US        NaN          No   \n",
       "21999  United States of America           US        NaN          No   \n",
       "\n",
       "              job_board                                    job_description  \\\n",
       "0      jobs.monster.com  TeamSoft is seeing an IT Support Specialist to...   \n",
       "1      jobs.monster.com  The Wisconsin State Journal is seeking a flexi...   \n",
       "2      jobs.monster.com  Report this job About the Job DePuy Synthes Co...   \n",
       "3      jobs.monster.com  Why Join Altec? If you’re considering a career...   \n",
       "4      jobs.monster.com  Position ID#  76162 # Positions  1 State  CT C...   \n",
       "...                 ...                                                ...   \n",
       "21995  jobs.monster.com  This is a major premier Cincinnati based finan...   \n",
       "21996  jobs.monster.com  Luxury homebuilder in Cincinnati seeking multi...   \n",
       "21997  jobs.monster.com  RE: Adobe AEM-          Client -          Loca...   \n",
       "21998  jobs.monster.com  Jernberg Industries was established in 1937 an...   \n",
       "21999  jobs.monster.com  Contract AdministratorCan you be the point per...   \n",
       "\n",
       "                                               job_title             job_type  \\\n",
       "0                   IT Support Technician Job in Madison   Full Time Employee   \n",
       "1                Business Reporter/Editor Job in Madison            Full Time   \n",
       "2      Johnson & Johnson Family of Companies Job Appl...  Full Time, Employee   \n",
       "3                        Engineer - Quality Job in Dixon            Full Time   \n",
       "4           Shift Supervisor - Part-Time Job in Camphill   Full Time Employee   \n",
       "...                                                  ...                  ...   \n",
       "21995  Assistant Vice President - Controller Job in C...            Full Time   \n",
       "21996                       Accountant Job in Cincinnati            Full Time   \n",
       "21997                    AEM/CQ developer Job in Chicago            Full Time   \n",
       "21998  Electrician - Experienced Forging Electrician ...   Full Time Employee   \n",
       "21999           Contract Administrator Job in Cincinnati            Full Time   \n",
       "\n",
       "                                                location  \\\n",
       "0                                      Madison, WI 53702   \n",
       "1                                      Madison, WI 53708   \n",
       "2      DePuy Synthes Companies is a member of Johnson...   \n",
       "3                                              Dixon, CA   \n",
       "4                                           Camphill, PA   \n",
       "...                                                  ...   \n",
       "21995                                     Cincinnati, OH   \n",
       "21996                               Cincinnati, OH 45236   \n",
       "21997                                  Chicago, IL 60602   \n",
       "21998                                  Chicago, IL 60609   \n",
       "21999                                     Cincinnati, OH   \n",
       "\n",
       "                                         organization  \\\n",
       "0                                                 NaN   \n",
       "1                             Printing and Publishing   \n",
       "2                     Personal and Household Services   \n",
       "3                                    Altec Industries   \n",
       "4                                              Retail   \n",
       "...                                               ...   \n",
       "21995                                             NaN   \n",
       "21996  Construction - Residential & Commercial/Office   \n",
       "21997                                             NaN   \n",
       "21998                       Jernberg Industries, Inc.   \n",
       "21999                                             NaN   \n",
       "\n",
       "                                                page_url  \\\n",
       "0      http://jobview.monster.com/it-support-technici...   \n",
       "1      http://jobview.monster.com/business-reporter-e...   \n",
       "2      http://jobview.monster.com/senior-training-lea...   \n",
       "3      http://jobview.monster.com/engineer-quality-jo...   \n",
       "4      http://jobview.monster.com/shift-supervisor-pa...   \n",
       "...                                                  ...   \n",
       "21995  http://jobview.monster.com/Assistant-Vice-Pres...   \n",
       "21996  http://jobview.monster.com/Accountant-Job-Cinc...   \n",
       "21997  http://jobview.monster.com/AEM-CQ5-developer-J...   \n",
       "21998  http://jobview.monster.com/Electrician-Experie...   \n",
       "21999  http://jobview.monster.com/Contract-Administra...   \n",
       "\n",
       "                                                  salary  \\\n",
       "0                                                    NaN   \n",
       "1                                                    NaN   \n",
       "2                                                    NaN   \n",
       "3                                                    NaN   \n",
       "4                                                    NaN   \n",
       "...                                                  ...   \n",
       "21995               120,000.00 - 160,000.00 $ /yearbonus   \n",
       "21996                      45,000.00 - 60,000.00 $ /year   \n",
       "21997                                                NaN   \n",
       "21998                              25.00 - 28.00 $ /hour   \n",
       "21999  40,000.00 - 46,000.00 $ /year+ annual bonus (u...   \n",
       "\n",
       "                                      sector                           uniq_id  \n",
       "0                    IT/Software Development  11d599f229a80023d2f40e7c52cd941e  \n",
       "1                                        NaN  e4cbb126dabf22159aff90223243ff2a  \n",
       "2                                        NaN  839106b353877fa3d896ffb9c1fe01c0  \n",
       "3                  Experienced (Non-Manager)  58435fcab804439efdcaa7ecca0fd783  \n",
       "4                 Project/Program Management  64d0272dc8496abfd9523a8df63c184c  \n",
       "...                                      ...                               ...  \n",
       "21995                                    NaN  a80bc8cc3a90c17eef418963803bc640  \n",
       "21996  Manager (Manager/Supervisor of Staff)  419a3714be2b30a10f628de207d041de  \n",
       "21997                                    NaN  5a590350b73b2cec46b05750a208e345  \n",
       "21998        Installation/Maintenance/Repair  40161cf61c283af9dc2b0a62947a5f1b  \n",
       "21999              Experienced (Non-Manager)  cb49f16ad72627b109e434e0cac97f7a  \n",
       "\n",
       "[22000 rows x 14 columns]"
      ]
     },
     "execution_count": 3,
     "metadata": {},
     "output_type": "execute_result"
    }
   ],
   "source": [
    "df"
   ]
  },
  {
   "cell_type": "code",
   "execution_count": 4,
   "metadata": {},
   "outputs": [
    {
     "data": {
      "text/plain": [
       "Index(['country', 'country_code', 'date_added', 'has_expired', 'job_board',\n",
       "       'job_description', 'job_title', 'job_type', 'location', 'organization',\n",
       "       'page_url', 'salary', 'sector', 'uniq_id'],\n",
       "      dtype='object')"
      ]
     },
     "execution_count": 4,
     "metadata": {},
     "output_type": "execute_result"
    }
   ],
   "source": [
    "df.columns"
   ]
  },
  {
   "cell_type": "code",
   "execution_count": 5,
   "metadata": {},
   "outputs": [
    {
     "data": {
      "text/plain": [
       "1"
      ]
     },
     "execution_count": 5,
     "metadata": {},
     "output_type": "execute_result"
    }
   ],
   "source": [
    "df['country'].nunique()"
   ]
  },
  {
   "cell_type": "code",
   "execution_count": 6,
   "metadata": {},
   "outputs": [
    {
     "data": {
      "text/plain": [
       "1"
      ]
     },
     "execution_count": 6,
     "metadata": {},
     "output_type": "execute_result"
    }
   ],
   "source": [
    "df['country_code'].nunique()"
   ]
  },
  {
   "cell_type": "code",
   "execution_count": 7,
   "metadata": {},
   "outputs": [
    {
     "data": {
      "text/plain": [
       "78"
      ]
     },
     "execution_count": 7,
     "metadata": {},
     "output_type": "execute_result"
    }
   ],
   "source": [
    "df['date_added'].nunique()"
   ]
  },
  {
   "cell_type": "code",
   "execution_count": 8,
   "metadata": {},
   "outputs": [
    {
     "data": {
      "text/plain": [
       "1"
      ]
     },
     "execution_count": 8,
     "metadata": {},
     "output_type": "execute_result"
    }
   ],
   "source": [
    "df['has_expired'].nunique()"
   ]
  },
  {
   "cell_type": "code",
   "execution_count": 9,
   "metadata": {},
   "outputs": [
    {
     "data": {
      "text/plain": [
       "1"
      ]
     },
     "execution_count": 9,
     "metadata": {},
     "output_type": "execute_result"
    }
   ],
   "source": [
    "df['job_board'].nunique()"
   ]
  },
  {
   "cell_type": "code",
   "execution_count": 10,
   "metadata": {},
   "outputs": [
    {
     "data": {
      "text/plain": [
       "18744"
      ]
     },
     "execution_count": 10,
     "metadata": {},
     "output_type": "execute_result"
    }
   ],
   "source": [
    "df['job_description'].nunique()"
   ]
  },
  {
   "cell_type": "code",
   "execution_count": 11,
   "metadata": {},
   "outputs": [
    {
     "data": {
      "text/plain": [
       "18759"
      ]
     },
     "execution_count": 11,
     "metadata": {},
     "output_type": "execute_result"
    }
   ],
   "source": [
    "df['job_title'].nunique()"
   ]
  },
  {
   "cell_type": "code",
   "execution_count": 12,
   "metadata": {},
   "outputs": [
    {
     "data": {
      "text/plain": [
       "39"
      ]
     },
     "execution_count": 12,
     "metadata": {},
     "output_type": "execute_result"
    }
   ],
   "source": [
    "df['job_type'].nunique()"
   ]
  },
  {
   "cell_type": "code",
   "execution_count": 13,
   "metadata": {},
   "outputs": [
    {
     "data": {
      "text/plain": [
       "8423"
      ]
     },
     "execution_count": 13,
     "metadata": {},
     "output_type": "execute_result"
    }
   ],
   "source": [
    "df['location'].nunique()"
   ]
  },
  {
   "cell_type": "code",
   "execution_count": 14,
   "metadata": {},
   "outputs": [
    {
     "data": {
      "text/plain": [
       "738"
      ]
     },
     "execution_count": 14,
     "metadata": {},
     "output_type": "execute_result"
    }
   ],
   "source": [
    "df['organization'].nunique()"
   ]
  },
  {
   "cell_type": "code",
   "execution_count": 15,
   "metadata": {},
   "outputs": [
    {
     "data": {
      "text/plain": [
       "22000"
      ]
     },
     "execution_count": 15,
     "metadata": {},
     "output_type": "execute_result"
    }
   ],
   "source": [
    "df['page_url'].nunique()"
   ]
  },
  {
   "cell_type": "code",
   "execution_count": 16,
   "metadata": {},
   "outputs": [
    {
     "data": {
      "text/plain": [
       "1737"
      ]
     },
     "execution_count": 16,
     "metadata": {},
     "output_type": "execute_result"
    }
   ],
   "source": [
    "df['salary'].nunique()"
   ]
  },
  {
   "cell_type": "code",
   "execution_count": 17,
   "metadata": {},
   "outputs": [
    {
     "data": {
      "text/plain": [
       "163"
      ]
     },
     "execution_count": 17,
     "metadata": {},
     "output_type": "execute_result"
    }
   ],
   "source": [
    "df['sector'].nunique()"
   ]
  },
  {
   "cell_type": "code",
   "execution_count": 18,
   "metadata": {},
   "outputs": [
    {
     "data": {
      "text/plain": [
       "22000"
      ]
     },
     "execution_count": 18,
     "metadata": {},
     "output_type": "execute_result"
    }
   ],
   "source": [
    "df['uniq_id'].nunique()"
   ]
  },
  {
   "cell_type": "code",
   "execution_count": 19,
   "metadata": {},
   "outputs": [
    {
     "data": {
      "text/plain": [
       "country                0\n",
       "country_code           0\n",
       "date_added         21878\n",
       "has_expired            0\n",
       "job_board              0\n",
       "job_description        0\n",
       "job_title              0\n",
       "job_type            1628\n",
       "location               0\n",
       "organization        6867\n",
       "page_url               0\n",
       "salary             18554\n",
       "sector              5194\n",
       "uniq_id                0\n",
       "dtype: int64"
      ]
     },
     "execution_count": 19,
     "metadata": {},
     "output_type": "execute_result"
    }
   ],
   "source": [
    "df.isnull().sum()"
   ]
  },
  {
   "cell_type": "code",
   "execution_count": 20,
   "metadata": {},
   "outputs": [
    {
     "name": "stderr",
     "output_type": "stream",
     "text": [
      "C:\\ProgramData\\Anaconda3\\lib\\site-packages\\statsmodels\\tools\\_testing.py:19: FutureWarning: pandas.util.testing is deprecated. Use the functions in the public API at pandas.testing instead.\n",
      "  import pandas.util.testing as tm\n"
     ]
    }
   ],
   "source": [
    "import seaborn as sns"
   ]
  },
  {
   "cell_type": "code",
   "execution_count": 21,
   "metadata": {},
   "outputs": [
    {
     "data": {
      "text/plain": [
       "<matplotlib.axes._subplots.AxesSubplot at 0x27f89df0048>"
      ]
     },
     "execution_count": 21,
     "metadata": {},
     "output_type": "execute_result"
    },
    {
     "data": {
      "image/png": "[encoded data removed]",
      "text/plain": [
       "<Figure size 432x288 with 2 Axes>"
      ]
     },
     "metadata": {
      "needs_background": "light"
     },
     "output_type": "display_data"
    }
   ],
   "source": [
    "sns.heatmap(df.isnull())"
   ]
  },
  {
   "cell_type": "code",
   "execution_count": 22,
   "metadata": {},
   "outputs": [
    {
     "data": {
      "text/plain": [
       "array(['United States of America'], dtype=object)"
      ]
     },
     "execution_count": 22,
     "metadata": {},
     "output_type": "execute_result"
    }
   ],
   "source": [
    "df['country'].unique() # not required for our dataset"
   ]
  },
  {
   "cell_type": "code",
   "execution_count": 23,
   "metadata": {},
   "outputs": [
    {
     "data": {
      "text/plain": [
       "array(['US'], dtype=object)"
      ]
     },
     "execution_count": 23,
     "metadata": {},
     "output_type": "execute_result"
    }
   ],
   "source": [
    "df['country_code'].unique() # not require for our dataset"
   ]
  },
  {
   "cell_type": "code",
   "execution_count": 24,
   "metadata": {},
   "outputs": [
    {
     "data": {
      "text/plain": [
       "array(['No'], dtype=object)"
      ]
     },
     "execution_count": 24,
     "metadata": {},
     "output_type": "execute_result"
    }
   ],
   "source": [
    "df['has_expired'].unique() # not require for our dataset"
   ]
  },
  {
   "cell_type": "code",
   "execution_count": 25,
   "metadata": {},
   "outputs": [
    {
     "data": {
      "text/plain": [
       "array([nan, '5/10/2016', '5/13/2016', '5/9/2016', '6/10/2016', '1/2/2017',\n",
       "       '6/17/2016', '6/24/2016', '6/23/2016', '12/20/2016', '12/12/2016',\n",
       "       '7/15/2016', '7/8/2016', '10/31/2016', '10/28/2016', '4/28/2016',\n",
       "       '4/27/2016', '4/29/2016', '9/12/2016', '1/16/2017', '9/22/2016',\n",
       "       '3/25/2016', '6/20/2016', '11/17/2016', '7/11/2016', '12/7/2016',\n",
       "       '12/14/2016', '12/29/2016', '5/5/2016', '5/6/2016', '05/09/2016',\n",
       "       '8/11/2016', '3/17/2016', '4/4/2016', '4/7/2016', '4/6/2016',\n",
       "       '9/21/2016', '5/18/2016', '3/15/2016', '5/19/2016', '6/8/2016',\n",
       "       '6/7/2016', '10/18/2016', '12/2/2016', '11/7/2016', '3/29/2016',\n",
       "       '4/8/2016', '5/26/2016', '9/15/2016', '8/17/2016', '11/21/2016',\n",
       "       '12/15/2016', '10/27/2016', '10/25/2016', '6/27/2016', '7/5/2016',\n",
       "       '7/4/2016', '7/7/2016', '8/25/2016', '9/5/2016', '8/23/2016',\n",
       "       '9/2/2016', '9/1/2016', '8/31/2016', '9/26/2016', '8/5/2016',\n",
       "       '8/2/2016', '3/28/2016', '3/22/2016', '2/29/2016', '9/9/2016',\n",
       "       '3/11/2016', '3/21/2016', '3/7/2016', '6/3/2016', '6/30/2016',\n",
       "       '9/27/2016', '3/30/2016', '3/24/2016'], dtype=object)"
      ]
     },
     "execution_count": 25,
     "metadata": {},
     "output_type": "execute_result"
    }
   ],
   "source": [
    "df['date_added'].unique()"
   ]
  },
  {
   "cell_type": "code",
   "execution_count": 26,
   "metadata": {},
   "outputs": [
    {
     "data": {
      "text/plain": [
       "21878"
      ]
     },
     "execution_count": 26,
     "metadata": {},
     "output_type": "execute_result"
    }
   ],
   "source": [
    "df['date_added'].isnull().sum() # cant be a part for our dataset as majority of the dates are missing"
   ]
  },
  {
   "cell_type": "code",
   "execution_count": 27,
   "metadata": {},
   "outputs": [
    {
     "data": {
      "text/plain": [
       "array(['jobs.monster.com'], dtype=object)"
      ]
     },
     "execution_count": 27,
     "metadata": {},
     "output_type": "execute_result"
    }
   ],
   "source": [
    "df['job_board'].unique() # dont require in our dataset"
   ]
  },
  {
   "cell_type": "code",
   "execution_count": 28,
   "metadata": {},
   "outputs": [
    {
     "data": {
      "text/plain": [
       "\"Market Center AdministratorThe Market Center Administrator is responsible for accounting and financial record keeping, overseeing the administrative systems/operations of the office, including staff and facilities. Accounting functions include AP, AR, PR, GL/bank reconciliations and month-end closing. Do you possess strong leadership skills with demonstrated bookkeeping & accounting experience? Are you up-to-date on technology? Have you supervised a team in a high energy and service oriented environment? The MCA's three main area of focus are (1) Operation and Administration (2) Accounting (3) Support OperationsAdministration As the equivalent to a Chief Operations Officer, the MCA is responsible for all systems in the Market Center. This includes: - Hiring and managing receptionists and Assistant MCAs- Interacting with staff, associates, and vendors- Purchasing supplies and equipment- Ensuring the professional appearance of all physical facilities- Coordinating the maintenance of office equipment and monitoring maintenance agreements- Overseeing Computer Hardware Specialist, Computer Software Trainer, and Internet Specialist- Setting up and maintaining all passwords on computer systemsAccounting As the equivalent to a Chief Financial Officer, the MCA is responsible for accurate banking and accounting services. This includes: - Full charge accounting- Computerized bookkeeping and general computer experience- Staff payroll if not using a Professional Employment Organization (PEO)- Acting as the Market Center liaison to the CPA- Being detailed and action oriented- Maintaining office files, including accounting files, general ledger files, associate files, employee files, listing files, contract pending files, and closed contract files- Monthly reporting of all production and accounting figures for the month- Responsible for processing and paying associate commissions- Responsible for budget setting and trackingWorking hours: 8am-5pmSkills:Strong written and verbal communication skillsDetailedPeople orientedHappy, positiveComputer skillsAccountingHigh school graduateFull charge bookkeeper1-3 years industry, service, administrative, and management experienceComputer skillsJob Type: Full-timeRequired education:High school or equivalentRandstad is a world leader in matching great people with great companies. Our experienced agents will listen carefully to your employment needs and then work diligently to match your skills and qualifications to the right job and company. Whether you're looking for temporary, temporary-to-permanent or permanent opportunities, no one works harder for you than Randstad. EEO Employer: Race, Religion, Color, National Origin, Citizenship, Sex, Age, Disability, Ancestry, Veteran Status, Genetic Information, Service in the Uniformed Services or any other classification protected by law.\""
      ]
     },
     "execution_count": 28,
     "metadata": {},
     "output_type": "execute_result"
    }
   ],
   "source": [
    "df['job_description'].unique()[np.random.randint(0, df['job_description'].nunique())]\n",
    "# need a preprocessing algorithm to it\n",
    "# also need a NLP algorithm to process some important information for it"
   ]
  },
  {
   "cell_type": "code",
   "execution_count": 29,
   "metadata": {},
   "outputs": [
    {
     "data": {
      "text/plain": [
       "array(['Full Time Employee', 'Full Time', 'Full Time, Employee',\n",
       "       'Part Time Employee', nan, 'Full Time Temporary/Contract/Project',\n",
       "       'Full Time , Employee', 'Full Time, Temporary/Contract/Project',\n",
       "       'Employee', 'Part Time', 'Part Time, Employee', 'Full Time Intern',\n",
       "       'Temporary/Contract/Project', 'Full Time / Employee',\n",
       "       'Full Time , Temporary/Contract/Project',\n",
       "       'Part Time, Temporary/Contract/Project', 'Full Time/ Employee',\n",
       "       'Per Diem, Employee', 'Job Type Full Time Employee', 'Per Diem',\n",
       "       'Full Time\\xa0', 'Part Time Intern', 'Per Diem Employee',\n",
       "       'Part Time/ Temporary/Contract/Project',\n",
       "       'Part Time Temporary/Contract/Project', 'Exempt',\n",
       "       'Part Time , Temporary/Contract/Project', 'Full Time\\xa0 Employee',\n",
       "       'Part Time Seasonal', 'Part Time , Employee', 'Job Type Employee',\n",
       "       'Job Type Full Time Temporary/Contract/Project',\n",
       "       'Full Time / > Employee', 'Part Time\\xa0',\n",
       "       'Per Diem, Temporary/Contract/Project',\n",
       "       'Full Time / Temporary/Contract/Project', 'Part Time, Intern',\n",
       "       'Job Type Full Time', 'Part Time / Employee',\n",
       "       'Job Type Part Time Employee'], dtype=object)"
      ]
     },
     "execution_count": 29,
     "metadata": {},
     "output_type": "execute_result"
    }
   ],
   "source": [
    "df['job_type'].unique()"
   ]
  },
  {
   "cell_type": "code",
   "execution_count": 30,
   "metadata": {},
   "outputs": [
    {
     "data": {
      "text/plain": [
       "nan"
      ]
     },
     "execution_count": 30,
     "metadata": {},
     "output_type": "execute_result"
    }
   ],
   "source": [
    "df['job_type'].unique()[np.random.randint(low=0,high=df['job_type'].nunique())]\n",
    "# preprocessing is required for it to make it as single type\n",
    "# has duplicates in it"
   ]
  },
  {
   "cell_type": "code",
   "execution_count": 31,
   "metadata": {},
   "outputs": [
    {
     "data": {
      "text/plain": [
       "1628"
      ]
     },
     "execution_count": 31,
     "metadata": {},
     "output_type": "execute_result"
    }
   ],
   "source": [
    "df['job_type'].isnull().sum()\n",
    "# missing values can be replaced by classification algorithm"
   ]
  },
  {
   "cell_type": "code",
   "execution_count": 32,
   "metadata": {},
   "outputs": [
    {
     "data": {
      "text/plain": [
       "\"Service Manager Oak Creek-1600025246\\xa0To create a positive image of the Bank by overseeing all functions of the Service Representative team to ensure customers are provided with superior customer service that defines a great customer experience. \\xa0This position has supervisory responsibility for the Service Representative staff and is accountable for managing referrals of prospects to Personal Bankers and other banking groups to deliver clarity (simplicity, guidance, and know-how) to our customers.\\xa0 The Service Manager is the operations champion and leader of directives and procedures.\\xa0Embraces, adopts, and promotes innovative ways of banking with employees and customers.\\xa0Key Accountabilities\\xa0\\xa0Service Team Performance \\xa0Provide professional and courteous service in processing a wide variety of day-to-day and special service customer transactions.Resolve customer related issues promptly using knowledge of bank services, products and processes.Meet or exceed all personal referral goals as defined by referral program or by Bank Manager.Oversees daily staffing (including breaks and lunches), to minimize customer wait times and enhance service levels, leveraging the branch scheduler tool.\\xa0Superior Customer Service\\xa0Identify customer needs and matches needs with appropriate product or serve, makes referrals to other team members, including across lines of business (i.e. BMO Linkages Referrals), as assigned by Bank Manager.Ensure the Service Representative staff possesses the necessary skills to understand and execute customer banking transaction needs, and are proactive in offering suggestions and options.\\xa0Product Knowledge and Referral Development\\xa0Identifies customer needs and matches needs with appropriate product or service, utilizing opportunities to suggest or cross-sell other bank products and services.Makes qualified referrals to other team members including other lines of business.Meets or exceeds all personal referral goals as defined.Participates in all training relative to bank products and services.Supports bank’s community involvement and participates in community activities as required.Stay current on BMO Harris digital banking capabilities and coach team to provide proactive, needs based guidance on\\xa0 BMO Harris' digital banking and self-service technologies\\xa0Risk Management\\xa0Identifies risks associated with regulatory compliance, overdraft authority and bank secrecy act.Adheres to all bank policies, directives and procedures.Completes all branch audits in appropriate time frames; monthly, quarterly, biannually, and annuallyFosters a team approach ensuring audit requirements are achieved.Understands, applies and enforces dual control procedure at all times.Conducts ongoing robbery training with staff.Disseminates all fraud related alerts and conducts training with staff to reduce fraud losses.Understands systems functionality and ensures transactions are input appropriately; responds to system messages to evaluate risk associated with transaction and accountable for granting overrides.Ensures all necessary documentation is completed for all transactions.Maintains cash supply at each serve representatives’ window, vault and oversee vault security and teller alarm equipment.Ensures all security measures are followed.Adheres to and manages branch capture process.\\xa0Leadership for Staff Performance\\xa0Manage, coaches and develop the Service Representative staff by assigning work, training, answering questions, solving problems, helping with complex transactions and sensitive customer relations problems/complaints.Ensure the Service Representative staff possesses the necessary skills to understand and execute customer banking transaction needs, and are proactive in offering suggestion sand option son the different products to other lines of business.Provide Human Resource Management for all service representative jobs including PPA’s, Developmental Plan/Training, Goal Setting and Corrective Action.Coordinates daily work routines and assigning duties for Service Representative staff.Lead the hiring process for the Service Representative Team Lead the Service Representative Team meetings, including Daily Huddles.\\xa0Qualifications\\xa0Knowledge & Skills\\xa0Knowledge\\xa0Education: High School education or equivalentCollege or other courses related to retail banking preferredExperience:5 years Service Representative or related work experienceBank Secrecy Act experiencePrevious Supervisory/Management experience preferredPrevious sales experience a plus\\xa0Skills\\xa0Online procedures, deposit/check processingPersonal Banking products/services, commercial deposit productsCompliance training\\xa0Communication Skills\\xa0Must be able to disseminate valuable information in a timely manner and have the ability to decipher and react to urgent requests, when appropriateCorrespond clearly and concisely in all business writing and verbal communicationsAbility to give direction, set limits, and hold pople accountable for high performanceAbility to manage difficult conversations with employees and give positive feedback and motivation\\xa0Risk and Compliance Management\\xa0A strong knowledge of all applicable regulations, audit standards, and related corporate policies, procedures and directivesAbility to demonstrate sound judgment, decision making and discretionAbility to assess risk in order to mitigate loss to the branch and organization\\xa0Operational and People Management\\xa0Ability to adapt in a rapidly changing environmentThorough understanding of all retail and commercial transaction processes and all products/servicesAbility to share knowledge and promote staff learning and developmentAbility to identify skill sets in others and to assign tasks appropriatelyAbility to foster teamwork, recognize and reward achievements inspire trust and motivate othersAbility to create an environment that promotes customer service internally and externally, and building lasting relationships through exceptional customer serviceAbility to make sound decisions, ensuring that decisions achieve results in a timely mannerAbility to take responsibility to team performance and development\\xa0Tech Savviness:\\xa0Comfortable using, advising on, and engaging team members and customers in digital and other innovative forms of banking. \\xa0Openness and Adaptability:\\xa0Ability to effectively adapt to rapid advancements in technology and the changing nature of the banking environment. Open to learning and adopting new technology and/or ways of working.\\xa0Change Leadership:\\xa0Demonstrated ability to influence and lead others through change\\xa0At BMO Harris Bank, we have been helping our customers and communities for over 130 years. Working with us means being part of a team of talented, passionate individuals with a shared focus on working together to deliver great customer experiences. We stand behind your success with the support you need to turn your potential into performance. \\xa0To submit your application for this job, please go to: https://bmo.taleo.net/careersection/2/jobdetail.ftl?job=1600025246&lang=en_GB\\xa0BMO Harris Bank is committed to an inclusive, equitable and accessible workplace. We are an Equal Opportunity Employer. By embracing diversity, we gain strength through our people and our perspectives. All qualified applicants will receive consideration for employment without regard to race, color, religion, gender, sexual orientation, national origin, age, disability or veteran status.\""
      ]
     },
     "execution_count": 32,
     "metadata": {},
     "output_type": "execute_result"
    }
   ],
   "source": [
    "df['job_description'][np.random.randint(0, high=df['job_description'].nunique())]"
   ]
  },
  {
   "cell_type": "code",
   "execution_count": 33,
   "metadata": {},
   "outputs": [
    {
     "data": {
      "text/plain": [
       "'San Diego, CA 92104'"
      ]
     },
     "execution_count": 33,
     "metadata": {},
     "output_type": "execute_result"
    }
   ],
   "source": [
    "df['location'].unique()[np.random.randint(0, df['location'].nunique())]\n",
    "# some fields are wrongly put into it"
   ]
  },
  {
   "cell_type": "code",
   "execution_count": 34,
   "metadata": {},
   "outputs": [
    {
     "data": {
      "text/plain": [
       "'Retail Advertising and PR Services Sports and Physical Recreation'"
      ]
     },
     "execution_count": 34,
     "metadata": {},
     "output_type": "execute_result"
    }
   ],
   "source": [
    "df['organization'].unique()[np.random.randint(0, df['organization'].nunique())]"
   ]
  },
  {
   "cell_type": "code",
   "execution_count": 35,
   "metadata": {},
   "outputs": [
    {
     "data": {
      "text/plain": [
       "6867"
      ]
     },
     "execution_count": 35,
     "metadata": {},
     "output_type": "execute_result"
    }
   ],
   "source": [
    "df['organization'].isnull().sum()"
   ]
  },
  {
   "cell_type": "code",
   "execution_count": 36,
   "metadata": {},
   "outputs": [
    {
     "data": {
      "text/plain": [
       "'Biotechnology/PharmaceuticalsEngineering ServicesMedical Devices and Supplies'"
      ]
     },
     "execution_count": 36,
     "metadata": {},
     "output_type": "execute_result"
    }
   ],
   "source": [
    "df['organization'].unique()[np.random.randint(0, df['organization'].nunique())]"
   ]
  },
  {
   "cell_type": "code",
   "execution_count": 37,
   "metadata": {},
   "outputs": [
    {
     "data": {
      "text/plain": [
       "'http://jobview.monster.com/senior-assistant-restaurant-manager-job-charlotte-nc-us-176664760.aspx?mescoid=3500602001001&jobPosition=3'"
      ]
     },
     "execution_count": 37,
     "metadata": {},
     "output_type": "execute_result"
    }
   ],
   "source": [
    "df['page_url'].unique()[np.random.randint(0, df['page_url'].nunique())]\n",
    "# not required for our analysis"
   ]
  },
  {
   "cell_type": "code",
   "execution_count": 38,
   "metadata": {},
   "outputs": [
    {
     "data": {
      "text/plain": [
       "'60.00 - 80.00 $ /hour'"
      ]
     },
     "execution_count": 38,
     "metadata": {},
     "output_type": "execute_result"
    }
   ],
   "source": [
    "df['salary'].unique()[np.random.randint(0, df['salary'].nunique())]\n",
    "# needs preprocessing"
   ]
  },
  {
   "cell_type": "code",
   "execution_count": 39,
   "metadata": {},
   "outputs": [
    {
     "data": {
      "text/plain": [
       "'General/Other: Business/Strategic Management'"
      ]
     },
     "execution_count": 39,
     "metadata": {},
     "output_type": "execute_result"
    }
   ],
   "source": [
    "df['sector'].unique()[np.random.randint(0, df['sector'].nunique())]"
   ]
  },
  {
   "cell_type": "code",
   "execution_count": 40,
   "metadata": {},
   "outputs": [
    {
     "data": {
      "text/plain": [
       "'6559b64dc844d2831a698410c28aa8f8'"
      ]
     },
     "execution_count": 40,
     "metadata": {},
     "output_type": "execute_result"
    }
   ],
   "source": [
    "df['uniq_id'].unique()[np.random.randint(0, df['uniq_id'].nunique())] # column not required"
   ]
  },
  {
   "cell_type": "code",
   "execution_count": 41,
   "metadata": {},
   "outputs": [
    {
     "data": {
      "text/plain": [
       "Index(['country', 'country_code', 'date_added', 'has_expired', 'job_board',\n",
       "       'job_description', 'job_title', 'job_type', 'location', 'organization',\n",
       "       'page_url', 'salary', 'sector', 'uniq_id'],\n",
       "      dtype='object')"
      ]
     },
     "execution_count": 41,
     "metadata": {},
     "output_type": "execute_result"
    }
   ],
   "source": [
    "df.columns"
   ]
  },
  {
   "cell_type": "code",
   "execution_count": 42,
   "metadata": {},
   "outputs": [
    {
     "data": {
      "text/plain": [
       "'\\nImportant Attributes\\n-> job_description\\n-> job_title\\n-> job_type\\n-> location\\n-> organization (can be discarded)\\n-> salary\\n-> sector\\n'"
      ]
     },
     "execution_count": 42,
     "metadata": {},
     "output_type": "execute_result"
    }
   ],
   "source": [
    "'''\n",
    "Important Attributes\n",
    "-> job_description\n",
    "-> job_title\n",
    "-> job_type\n",
    "-> location\n",
    "-> organization (can be discarded)\n",
    "-> salary\n",
    "-> sector\n",
    "'''"
   ]
  },
  {
   "cell_type": "code",
   "execution_count": 43,
   "metadata": {},
   "outputs": [],
   "source": [
    "dfpp = df[['job_description', 'job_title', 'location', 'organization', 'sector', 'salary']].dropna().reset_index()"
   ]
  },
  {
   "cell_type": "code",
   "execution_count": 44,
   "metadata": {},
   "outputs": [
    {
     "data": {
      "text/plain": [
       "0"
      ]
     },
     "execution_count": 44,
     "metadata": {},
     "output_type": "execute_result"
    }
   ],
   "source": [
    "dfpp.isnull().sum().sum()"
   ]
  },
  {
   "cell_type": "code",
   "execution_count": 45,
   "metadata": {},
   "outputs": [
    {
     "data": {
      "text/html": [
       "<div>\n",
       "<style scoped>\n",
       "    .dataframe tbody tr th:only-of-type {\n",
       "        vertical-align: middle;\n",
       "    }\n",
       "\n",
       "    .dataframe tbody tr th {\n",
       "        vertical-align: top;\n",
       "    }\n",
       "\n",
       "    .dataframe thead th {\n",
       "        text-align: right;\n",
       "    }\n",
       "</style>\n",
       "<table border=\"1\" class=\"dataframe\">\n",
       "  <thead>\n",
       "    <tr style=\"text-align: right;\">\n",
       "      <th></th>\n",
       "      <th>index</th>\n",
       "      <th>job_description</th>\n",
       "      <th>job_title</th>\n",
       "      <th>location</th>\n",
       "      <th>organization</th>\n",
       "      <th>sector</th>\n",
       "      <th>salary</th>\n",
       "    </tr>\n",
       "  </thead>\n",
       "  <tbody>\n",
       "    <tr>\n",
       "      <th>0</th>\n",
       "      <td>13</td>\n",
       "      <td>Launch your teaching career with the Leader in...</td>\n",
       "      <td>Primrose Private Preschool Teacher Job in Houston</td>\n",
       "      <td>Houston, TX 77098</td>\n",
       "      <td>Education</td>\n",
       "      <td>Entry Level</td>\n",
       "      <td>9.00 - 13.00 $ /hour</td>\n",
       "    </tr>\n",
       "    <tr>\n",
       "      <th>1</th>\n",
       "      <td>14</td>\n",
       "      <td>Construction Professional For more than 15 yea...</td>\n",
       "      <td>Superintendent Job in Houston</td>\n",
       "      <td>Houston, TX</td>\n",
       "      <td>Construction - Industrial Facilities and Infra...</td>\n",
       "      <td>Building Construction/Skilled Trades</td>\n",
       "      <td>80,000.00 - 95,000.00 $ /year</td>\n",
       "    </tr>\n",
       "    <tr>\n",
       "      <th>2</th>\n",
       "      <td>29</td>\n",
       "      <td>Experis is working with a Pharmaceutical start...</td>\n",
       "      <td>Sr. Process Engineer</td>\n",
       "      <td>Sr. Process Engineer, Manufacturing</td>\n",
       "      <td>Chicago, IL</td>\n",
       "      <td>Engineering</td>\n",
       "      <td>70,000.00 - 100,000.00 $ /year</td>\n",
       "    </tr>\n",
       "    <tr>\n",
       "      <th>3</th>\n",
       "      <td>36</td>\n",
       "      <td>POSITION TITLE: RF System Technician, Field Se...</td>\n",
       "      <td>RF System Technician</td>\n",
       "      <td>RF System Technician, Field Service</td>\n",
       "      <td>Oklahoma City, OK</td>\n",
       "      <td>Engineering</td>\n",
       "      <td>68,000.00 - 72,000.00 $ /year</td>\n",
       "    </tr>\n",
       "    <tr>\n",
       "      <th>4</th>\n",
       "      <td>41</td>\n",
       "      <td>Job Description: Technical Japanese/English S...</td>\n",
       "      <td>Japanese and English Speaking Interpreter and ...</td>\n",
       "      <td>Charleston, WV</td>\n",
       "      <td>Manufacturing - Other</td>\n",
       "      <td>Experienced (Non-Manager)</td>\n",
       "      <td>58,000.00 - 65,000.00 $ /year</td>\n",
       "    </tr>\n",
       "    <tr>\n",
       "      <th>...</th>\n",
       "      <td>...</td>\n",
       "      <td>...</td>\n",
       "      <td>...</td>\n",
       "      <td>...</td>\n",
       "      <td>...</td>\n",
       "      <td>...</td>\n",
       "      <td>...</td>\n",
       "    </tr>\n",
       "    <tr>\n",
       "      <th>1926</th>\n",
       "      <td>21929</td>\n",
       "      <td>Sears, Roebuck and Co., a member of the Sears ...</td>\n",
       "      <td>Consultative Sales- Home Improvement Job in Ci...</td>\n",
       "      <td>Cincinnati, OH 45211</td>\n",
       "      <td>Retail</td>\n",
       "      <td>Entry Level</td>\n",
       "      <td>Commensurate with Experience</td>\n",
       "    </tr>\n",
       "    <tr>\n",
       "      <th>1927</th>\n",
       "      <td>21948</td>\n",
       "      <td>Assistant Quality ManagerOur client is a succe...</td>\n",
       "      <td>Assistant Quality Manager Job in Cincinnati</td>\n",
       "      <td>Cincinnati, OH 45202</td>\n",
       "      <td>Automotive and Parts Mfg</td>\n",
       "      <td>Experienced (Non-Manager)</td>\n",
       "      <td>55,000.00 - 60,000.00 $ /yearFull Benefits Pac...</td>\n",
       "    </tr>\n",
       "    <tr>\n",
       "      <th>1928</th>\n",
       "      <td>21971</td>\n",
       "      <td>CULINARY CAREER WEST CHESTER OHIO!EXECUTIVE CH...</td>\n",
       "      <td>EXECUTIVE CHEF WEST CHESTER OHIO $K-$K PLUS! B...</td>\n",
       "      <td>West Chester, OH</td>\n",
       "      <td>All</td>\n",
       "      <td>Manager (Manager/Supervisor of Staff)</td>\n",
       "      <td>75,000.00 - 85,000.00 $ /yearHighly Competitiv...</td>\n",
       "    </tr>\n",
       "    <tr>\n",
       "      <th>1929</th>\n",
       "      <td>21996</td>\n",
       "      <td>Luxury homebuilder in Cincinnati seeking multi...</td>\n",
       "      <td>Accountant Job in Cincinnati</td>\n",
       "      <td>Cincinnati, OH 45236</td>\n",
       "      <td>Construction - Residential &amp; Commercial/Office</td>\n",
       "      <td>Manager (Manager/Supervisor of Staff)</td>\n",
       "      <td>45,000.00 - 60,000.00 $ /year</td>\n",
       "    </tr>\n",
       "    <tr>\n",
       "      <th>1930</th>\n",
       "      <td>21998</td>\n",
       "      <td>Jernberg Industries was established in 1937 an...</td>\n",
       "      <td>Electrician - Experienced Forging Electrician ...</td>\n",
       "      <td>Chicago, IL 60609</td>\n",
       "      <td>Jernberg Industries, Inc.</td>\n",
       "      <td>Installation/Maintenance/Repair</td>\n",
       "      <td>25.00 - 28.00 $ /hour</td>\n",
       "    </tr>\n",
       "  </tbody>\n",
       "</table>\n",
       "<p>1931 rows × 7 columns</p>\n",
       "</div>"
      ],
      "text/plain": [
       "      index                                    job_description  \\\n",
       "0        13  Launch your teaching career with the Leader in...   \n",
       "1        14  Construction Professional For more than 15 yea...   \n",
       "2        29  Experis is working with a Pharmaceutical start...   \n",
       "3        36  POSITION TITLE: RF System Technician, Field Se...   \n",
       "4        41   Job Description: Technical Japanese/English S...   \n",
       "...     ...                                                ...   \n",
       "1926  21929  Sears, Roebuck and Co., a member of the Sears ...   \n",
       "1927  21948  Assistant Quality ManagerOur client is a succe...   \n",
       "1928  21971  CULINARY CAREER WEST CHESTER OHIO!EXECUTIVE CH...   \n",
       "1929  21996  Luxury homebuilder in Cincinnati seeking multi...   \n",
       "1930  21998  Jernberg Industries was established in 1937 an...   \n",
       "\n",
       "                                              job_title  \\\n",
       "0     Primrose Private Preschool Teacher Job in Houston   \n",
       "1                         Superintendent Job in Houston   \n",
       "2                                  Sr. Process Engineer   \n",
       "3                                  RF System Technician   \n",
       "4     Japanese and English Speaking Interpreter and ...   \n",
       "...                                                 ...   \n",
       "1926  Consultative Sales- Home Improvement Job in Ci...   \n",
       "1927        Assistant Quality Manager Job in Cincinnati   \n",
       "1928  EXECUTIVE CHEF WEST CHESTER OHIO $K-$K PLUS! B...   \n",
       "1929                       Accountant Job in Cincinnati   \n",
       "1930  Electrician - Experienced Forging Electrician ...   \n",
       "\n",
       "                                 location  \\\n",
       "0                       Houston, TX 77098   \n",
       "1                             Houston, TX   \n",
       "2     Sr. Process Engineer, Manufacturing   \n",
       "3     RF System Technician, Field Service   \n",
       "4                          Charleston, WV   \n",
       "...                                   ...   \n",
       "1926                 Cincinnati, OH 45211   \n",
       "1927                 Cincinnati, OH 45202   \n",
       "1928                     West Chester, OH   \n",
       "1929                 Cincinnati, OH 45236   \n",
       "1930                    Chicago, IL 60609   \n",
       "\n",
       "                                           organization  \\\n",
       "0                                             Education   \n",
       "1     Construction - Industrial Facilities and Infra...   \n",
       "2                                           Chicago, IL   \n",
       "3                                     Oklahoma City, OK   \n",
       "4                                 Manufacturing - Other   \n",
       "...                                                 ...   \n",
       "1926                                             Retail   \n",
       "1927                           Automotive and Parts Mfg   \n",
       "1928                                                All   \n",
       "1929     Construction - Residential & Commercial/Office   \n",
       "1930                          Jernberg Industries, Inc.   \n",
       "\n",
       "                                     sector  \\\n",
       "0                               Entry Level   \n",
       "1      Building Construction/Skilled Trades   \n",
       "2                               Engineering   \n",
       "3                               Engineering   \n",
       "4                 Experienced (Non-Manager)   \n",
       "...                                     ...   \n",
       "1926                            Entry Level   \n",
       "1927              Experienced (Non-Manager)   \n",
       "1928  Manager (Manager/Supervisor of Staff)   \n",
       "1929  Manager (Manager/Supervisor of Staff)   \n",
       "1930        Installation/Maintenance/Repair   \n",
       "\n",
       "                                                 salary  \n",
       "0                                  9.00 - 13.00 $ /hour  \n",
       "1                         80,000.00 - 95,000.00 $ /year  \n",
       "2                        70,000.00 - 100,000.00 $ /year  \n",
       "3                         68,000.00 - 72,000.00 $ /year  \n",
       "4                         58,000.00 - 65,000.00 $ /year  \n",
       "...                                                 ...  \n",
       "1926                       Commensurate with Experience  \n",
       "1927  55,000.00 - 60,000.00 $ /yearFull Benefits Pac...  \n",
       "1928  75,000.00 - 85,000.00 $ /yearHighly Competitiv...  \n",
       "1929                      45,000.00 - 60,000.00 $ /year  \n",
       "1930                              25.00 - 28.00 $ /hour  \n",
       "\n",
       "[1931 rows x 7 columns]"
      ]
     },
     "execution_count": 45,
     "metadata": {},
     "output_type": "execute_result"
    }
   ],
   "source": [
    "dfpp"
   ]
  },
  {
   "cell_type": "code",
   "execution_count": 46,
   "metadata": {},
   "outputs": [
    {
     "data": {
      "text/plain": [
       "(1931, 7)"
      ]
     },
     "execution_count": 46,
     "metadata": {},
     "output_type": "execute_result"
    }
   ],
   "source": [
    "dfpp.shape"
   ]
  },
  {
   "cell_type": "code",
   "execution_count": 47,
   "metadata": {},
   "outputs": [],
   "source": [
    "def pre_process(text):\n",
    "    import re\n",
    "    text = re.sub(r'\\xa0', ' ', text)\n",
    "    text = re.sub(r',', ' ', text)\n",
    "    text = re.sub(r'&', ' ', text)\n",
    "    text = re.sub(r'!', ' ', text)\n",
    "    text = re.sub(r'`', ' ', text)\n",
    "    text = re.sub(r'%', ' ', text)\n",
    "    text = re.sub(r'/', ' ', text)\n",
    "    text = re.sub(r'\\\\', ' ', text)\n",
    "    text = re.sub(r\"'\", ' ', text)\n",
    "    text = re.sub(r'\"', ' ', text)\n",
    "    text = re.sub(r':', ' ', text)\n",
    "    text = re.sub(r';', ' ', text)\n",
    "    text = re.sub(r'<', ' ', text)\n",
    "    text = re.sub(r'>', ' ', text)\n",
    "    text = re.sub(r'=', ' ', text)\n",
    "    text = re.sub(r'-', ' ', text)\n",
    "    text = re.sub(r'’', ' ', text)\n",
    "    text = re.sub(r'·', ' ', text)\n",
    "    text = re.sub(r'#', ' ', text)\n",
    "    for i in range(5):\n",
    "        text = re.sub(r'  ', ' ', text)\n",
    "    return text\n",
    "\n",
    "def pre_process_salary(text):\n",
    "    import re\n",
    "    text = re.sub(r'\\xa0', ' ', text)\n",
    "    text = re.sub(r',', '', text)\n",
    "    text = re.sub(r'&', ' ', text)\n",
    "    text = re.sub(r'!', ' ', text)\n",
    "    text = re.sub(r'`', ' ', text)\n",
    "    text = re.sub(r'%', ' ', text)\n",
    "    text = re.sub(r'/', ' ', text)\n",
    "    text = re.sub(r'\\\\', ' ', text)\n",
    "    text = re.sub(r\"'\", ' ', text)\n",
    "    text = re.sub(r'\"', ' ', text)\n",
    "    text = re.sub(r':', ' ', text)\n",
    "    text = re.sub(r';', ' ', text)\n",
    "    text = re.sub(r'<', ' ', text)\n",
    "    text = re.sub(r'>', ' ', text)\n",
    "    text = re.sub(r'=', ' ', text)\n",
    "    text = re.sub(r'-', ' ', text)\n",
    "    text = re.sub(r'’', ' ', text)\n",
    "    text = re.sub(r'·', ' ', text)\n",
    "    text = re.sub(r'#', ' ', text)\n",
    "    for i in range(5):\n",
    "        text = re.sub(r'  ', ' ', text)\n",
    "    return text"
   ]
  },
  {
   "cell_type": "code",
   "execution_count": 48,
   "metadata": {},
   "outputs": [],
   "source": [
    "dfnewpp = pd.DataFrame()\n",
    "dfnewpp['job_description'] = dfpp['job_description'].apply(lambda x: pre_process(x))\n",
    "dfnewpp['job_title'] = dfpp['job_title'].apply(lambda x: pre_process(x))\n",
    "dfnewpp['location'] = dfpp['location'].apply(lambda x: pre_process(x))\n",
    "dfnewpp['organization'] = dfpp['location'].apply(lambda x: pre_process(x))\n",
    "dfnewpp['sector'] = dfpp['sector'].apply(lambda x: pre_process(x))\n",
    "dfnewpp['salary'] = dfpp['salary'].apply(lambda x: pre_process_salary(x))"
   ]
  },
  {
   "cell_type": "code",
   "execution_count": 49,
   "metadata": {},
   "outputs": [
    {
     "data": {
      "text/html": [
       "<div>\n",
       "<style scoped>\n",
       "    .dataframe tbody tr th:only-of-type {\n",
       "        vertical-align: middle;\n",
       "    }\n",
       "\n",
       "    .dataframe tbody tr th {\n",
       "        vertical-align: top;\n",
       "    }\n",
       "\n",
       "    .dataframe thead th {\n",
       "        text-align: right;\n",
       "    }\n",
       "</style>\n",
       "<table border=\"1\" class=\"dataframe\">\n",
       "  <thead>\n",
       "    <tr style=\"text-align: right;\">\n",
       "      <th></th>\n",
       "      <th>job_description</th>\n",
       "      <th>job_title</th>\n",
       "      <th>location</th>\n",
       "      <th>organization</th>\n",
       "      <th>sector</th>\n",
       "      <th>salary</th>\n",
       "    </tr>\n",
       "  </thead>\n",
       "  <tbody>\n",
       "    <tr>\n",
       "      <th>0</th>\n",
       "      <td>Launch your teaching career with the Leader in...</td>\n",
       "      <td>Primrose Private Preschool Teacher Job in Houston</td>\n",
       "      <td>Houston TX 77098</td>\n",
       "      <td>Houston TX 77098</td>\n",
       "      <td>Entry Level</td>\n",
       "      <td>9.00 13.00 $ hour</td>\n",
       "    </tr>\n",
       "    <tr>\n",
       "      <th>1</th>\n",
       "      <td>Construction Professional For more than 15 yea...</td>\n",
       "      <td>Superintendent Job in Houston</td>\n",
       "      <td>Houston TX</td>\n",
       "      <td>Houston TX</td>\n",
       "      <td>Building Construction Skilled Trades</td>\n",
       "      <td>80000.00 95000.00 $ year</td>\n",
       "    </tr>\n",
       "    <tr>\n",
       "      <th>2</th>\n",
       "      <td>Experis is working with a Pharmaceutical start...</td>\n",
       "      <td>Sr. Process Engineer</td>\n",
       "      <td>Sr. Process Engineer Manufacturing</td>\n",
       "      <td>Sr. Process Engineer Manufacturing</td>\n",
       "      <td>Engineering</td>\n",
       "      <td>70000.00 100000.00 $ year</td>\n",
       "    </tr>\n",
       "    <tr>\n",
       "      <th>3</th>\n",
       "      <td>POSITION TITLE RF System Technician Field Serv...</td>\n",
       "      <td>RF System Technician</td>\n",
       "      <td>RF System Technician Field Service</td>\n",
       "      <td>RF System Technician Field Service</td>\n",
       "      <td>Engineering</td>\n",
       "      <td>68000.00 72000.00 $ year</td>\n",
       "    </tr>\n",
       "    <tr>\n",
       "      <th>4</th>\n",
       "      <td>Job Description Technical Japanese English Sp...</td>\n",
       "      <td>Japanese and English Speaking Interpreter and ...</td>\n",
       "      <td>Charleston WV</td>\n",
       "      <td>Charleston WV</td>\n",
       "      <td>Experienced (Non Manager)</td>\n",
       "      <td>58000.00 65000.00 $ year</td>\n",
       "    </tr>\n",
       "    <tr>\n",
       "      <th>...</th>\n",
       "      <td>...</td>\n",
       "      <td>...</td>\n",
       "      <td>...</td>\n",
       "      <td>...</td>\n",
       "      <td>...</td>\n",
       "      <td>...</td>\n",
       "    </tr>\n",
       "    <tr>\n",
       "      <th>1926</th>\n",
       "      <td>Sears Roebuck and Co. a member of the Sears Ho...</td>\n",
       "      <td>Consultative Sales Home Improvement Job in Cin...</td>\n",
       "      <td>Cincinnati OH 45211</td>\n",
       "      <td>Cincinnati OH 45211</td>\n",
       "      <td>Entry Level</td>\n",
       "      <td>Commensurate with Experience</td>\n",
       "    </tr>\n",
       "    <tr>\n",
       "      <th>1927</th>\n",
       "      <td>Assistant Quality ManagerOur client is a succe...</td>\n",
       "      <td>Assistant Quality Manager Job in Cincinnati</td>\n",
       "      <td>Cincinnati OH 45202</td>\n",
       "      <td>Cincinnati OH 45202</td>\n",
       "      <td>Experienced (Non Manager)</td>\n",
       "      <td>55000.00 60000.00 $ yearFull Benefits Package ...</td>\n",
       "    </tr>\n",
       "    <tr>\n",
       "      <th>1928</th>\n",
       "      <td>CULINARY CAREER WEST CHESTER OHIO EXECUTIVE CH...</td>\n",
       "      <td>EXECUTIVE CHEF WEST CHESTER OHIO $K $K PLUS BE...</td>\n",
       "      <td>West Chester OH</td>\n",
       "      <td>West Chester OH</td>\n",
       "      <td>Manager (Manager Supervisor of Staff)</td>\n",
       "      <td>75000.00 85000.00 $ yearHighly Competitive Bas...</td>\n",
       "    </tr>\n",
       "    <tr>\n",
       "      <th>1929</th>\n",
       "      <td>Luxury homebuilder in Cincinnati seeking multi...</td>\n",
       "      <td>Accountant Job in Cincinnati</td>\n",
       "      <td>Cincinnati OH 45236</td>\n",
       "      <td>Cincinnati OH 45236</td>\n",
       "      <td>Manager (Manager Supervisor of Staff)</td>\n",
       "      <td>45000.00 60000.00 $ year</td>\n",
       "    </tr>\n",
       "    <tr>\n",
       "      <th>1930</th>\n",
       "      <td>Jernberg Industries was established in 1937 an...</td>\n",
       "      <td>Electrician Experienced Forging Electrician Jo...</td>\n",
       "      <td>Chicago IL 60609</td>\n",
       "      <td>Chicago IL 60609</td>\n",
       "      <td>Installation Maintenance Repair</td>\n",
       "      <td>25.00 28.00 $ hour</td>\n",
       "    </tr>\n",
       "  </tbody>\n",
       "</table>\n",
       "<p>1931 rows × 6 columns</p>\n",
       "</div>"
      ],
      "text/plain": [
       "                                        job_description  \\\n",
       "0     Launch your teaching career with the Leader in...   \n",
       "1     Construction Professional For more than 15 yea...   \n",
       "2     Experis is working with a Pharmaceutical start...   \n",
       "3     POSITION TITLE RF System Technician Field Serv...   \n",
       "4      Job Description Technical Japanese English Sp...   \n",
       "...                                                 ...   \n",
       "1926  Sears Roebuck and Co. a member of the Sears Ho...   \n",
       "1927  Assistant Quality ManagerOur client is a succe...   \n",
       "1928  CULINARY CAREER WEST CHESTER OHIO EXECUTIVE CH...   \n",
       "1929  Luxury homebuilder in Cincinnati seeking multi...   \n",
       "1930  Jernberg Industries was established in 1937 an...   \n",
       "\n",
       "                                              job_title  \\\n",
       "0     Primrose Private Preschool Teacher Job in Houston   \n",
       "1                         Superintendent Job in Houston   \n",
       "2                                  Sr. Process Engineer   \n",
       "3                                  RF System Technician   \n",
       "4     Japanese and English Speaking Interpreter and ...   \n",
       "...                                                 ...   \n",
       "1926  Consultative Sales Home Improvement Job in Cin...   \n",
       "1927        Assistant Quality Manager Job in Cincinnati   \n",
       "1928  EXECUTIVE CHEF WEST CHESTER OHIO $K $K PLUS BE...   \n",
       "1929                       Accountant Job in Cincinnati   \n",
       "1930  Electrician Experienced Forging Electrician Jo...   \n",
       "\n",
       "                                location                        organization  \\\n",
       "0                       Houston TX 77098                    Houston TX 77098   \n",
       "1                             Houston TX                          Houston TX   \n",
       "2     Sr. Process Engineer Manufacturing  Sr. Process Engineer Manufacturing   \n",
       "3     RF System Technician Field Service  RF System Technician Field Service   \n",
       "4                          Charleston WV                       Charleston WV   \n",
       "...                                  ...                                 ...   \n",
       "1926                 Cincinnati OH 45211                 Cincinnati OH 45211   \n",
       "1927                 Cincinnati OH 45202                 Cincinnati OH 45202   \n",
       "1928                     West Chester OH                     West Chester OH   \n",
       "1929                 Cincinnati OH 45236                 Cincinnati OH 45236   \n",
       "1930                    Chicago IL 60609                    Chicago IL 60609   \n",
       "\n",
       "                                     sector  \\\n",
       "0                               Entry Level   \n",
       "1      Building Construction Skilled Trades   \n",
       "2                               Engineering   \n",
       "3                               Engineering   \n",
       "4                 Experienced (Non Manager)   \n",
       "...                                     ...   \n",
       "1926                            Entry Level   \n",
       "1927              Experienced (Non Manager)   \n",
       "1928  Manager (Manager Supervisor of Staff)   \n",
       "1929  Manager (Manager Supervisor of Staff)   \n",
       "1930        Installation Maintenance Repair   \n",
       "\n",
       "                                                 salary  \n",
       "0                                     9.00 13.00 $ hour  \n",
       "1                              80000.00 95000.00 $ year  \n",
       "2                             70000.00 100000.00 $ year  \n",
       "3                              68000.00 72000.00 $ year  \n",
       "4                              58000.00 65000.00 $ year  \n",
       "...                                                 ...  \n",
       "1926                       Commensurate with Experience  \n",
       "1927  55000.00 60000.00 $ yearFull Benefits Package ...  \n",
       "1928  75000.00 85000.00 $ yearHighly Competitive Bas...  \n",
       "1929                           45000.00 60000.00 $ year  \n",
       "1930                                 25.00 28.00 $ hour  \n",
       "\n",
       "[1931 rows x 6 columns]"
      ]
     },
     "execution_count": 49,
     "metadata": {},
     "output_type": "execute_result"
    }
   ],
   "source": [
    "dfnewpp"
   ]
  },
  {
   "cell_type": "code",
   "execution_count": 53,
   "metadata": {},
   "outputs": [
    {
     "name": "stdout",
     "output_type": "stream",
     "text": [
      "Wall time: 966 µs\n"
     ]
    },
    {
     "data": {
      "text/plain": [
       "'50000.00 55000.00 $ year'"
      ]
     },
     "execution_count": 53,
     "metadata": {},
     "output_type": "execute_result"
    }
   ],
   "source": [
    "%%time\n",
    "dfnewpp['salary'].unique()[np.random.randint(0, dfnewpp['salary'].nunique())]"
   ]
  },
  {
   "cell_type": "code",
   "execution_count": null,
   "metadata": {},
   "outputs": [],
   "source": []
  }
 ],
 "metadata": {
  "kernelspec": {
   "display_name": "Python 3",
   "language": "python",
   "name": "python3"
  },
  "language_info": {
   "codemirror_mode": {
    "name": "ipython",
    "version": 3
   },
   "file_extension": ".py",
   "mimetype": "text/x-python",
   "name": "python",
   "nbconvert_exporter": "python",
   "pygments_lexer": "ipython3",
   "version": "3.7.4"
  }
 },
 "nbformat": 4,
 "nbformat_minor": 2
}
