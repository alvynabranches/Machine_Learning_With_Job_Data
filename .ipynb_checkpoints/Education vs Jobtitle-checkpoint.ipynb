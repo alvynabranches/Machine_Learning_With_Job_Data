{
 "cells": [
  {
   "cell_type": "code",
   "execution_count": 1,
   "metadata": {},
   "outputs": [],
   "source": [
    "import numpy as np\n",
    "import pandas as pd\n",
    "\n",
    "import matplotlib.pyplot as plt\n",
    "\n",
    "from sklearn.metrics import accuracy_score, confusion_matrix, multilabel_confusion_matrix\n",
    "\n",
    "from sklearn.calibration import CalibratedClassifierCV\n",
    "from sklearn.dummy import DummyClassifier\n",
    "from sklearn.ensemble import AdaBoostClassifier\n",
    "from sklearn.ensemble import BaggingClassifier\n",
    "from sklearn.ensemble import ExtraTreesClassifier\n",
    "from sklearn.ensemble import GradientBoostingClassifier\n",
    "from sklearn.ensemble import RandomForestClassifier\n",
    "from sklearn.gaussian_process import GaussianProcessClassifier\n",
    "from sklearn.linear_model import LogisticRegression\n",
    "from sklearn.linear_model import LogisticRegressionCV\n",
    "from sklearn.linear_model import PassiveAggressiveClassifier\n",
    "from sklearn.linear_model import Perceptron\n",
    "from sklearn.linear_model import RidgeClassifier\n",
    "from sklearn.linear_model import RidgeClassifierCV\n",
    "from sklearn.linear_model import SGDClassifier\n",
    "from sklearn.neighbors import KNeighborsClassifier\n",
    "from sklearn.neural_network import MLPClassifier\n",
    "from sklearn.svm import LinearSVC\n",
    "from sklearn.svm import NuSVC\n",
    "from sklearn.svm import SVC\n",
    "from sklearn.tree import DecisionTreeClassifier\n",
    "from sklearn.tree import ExtraTreeClassifier\n",
    "\n",
    "from warnings import filterwarnings\n",
    "filterwarnings('ignore')"
   ]
  },
  {
   "cell_type": "code",
   "execution_count": 2,
   "metadata": {},
   "outputs": [
    {
     "name": "stdout",
     "output_type": "stream",
     "text": [
      "Wall time: 14 s\n"
     ]
    }
   ],
   "source": [
    "%%time\n",
    "df = pd.read_excel('./indeed_results_pp_2020-04-25.xlsx')"
   ]
  },
  {
   "cell_type": "code",
   "execution_count": 3,
   "metadata": {},
   "outputs": [],
   "source": [
    "d = df[(df['Title_New'].notnull()) & ((df['Education_Tenth'] == 1) | (df['Education_Twelvth'] == 1) | (df['Education_Bachelors'] == 1) | (df['Education_Masters'] == 1) | (df['Education_Doctorate'] == 1))].reset_index()[['Title_New', 'Education_Tenth', 'Education_Twelvth', 'Education_Bachelors', 'Education_Masters', 'Education_Doctorate']]"
   ]
  },
  {
   "cell_type": "code",
   "execution_count": 4,
   "metadata": {},
   "outputs": [],
   "source": [
    "d['Title_New'] = d['Title_New'].astype('category')"
   ]
  },
  {
   "cell_type": "code",
   "execution_count": 5,
   "metadata": {},
   "outputs": [],
   "source": [
    "d['Categorical_Title'] = d['Title_New'].cat.codes"
   ]
  },
  {
   "cell_type": "code",
   "execution_count": 6,
   "metadata": {},
   "outputs": [
    {
     "data": {
      "text/html": [
       "<div>\n",
       "<style scoped>\n",
       "    .dataframe tbody tr th:only-of-type {\n",
       "        vertical-align: middle;\n",
       "    }\n",
       "\n",
       "    .dataframe tbody tr th {\n",
       "        vertical-align: top;\n",
       "    }\n",
       "\n",
       "    .dataframe thead th {\n",
       "        text-align: right;\n",
       "    }\n",
       "</style>\n",
       "<table border=\"1\" class=\"dataframe\">\n",
       "  <thead>\n",
       "    <tr style=\"text-align: right;\">\n",
       "      <th></th>\n",
       "      <th>Title_New</th>\n",
       "      <th>Education_Tenth</th>\n",
       "      <th>Education_Twelvth</th>\n",
       "      <th>Education_Bachelors</th>\n",
       "      <th>Education_Masters</th>\n",
       "      <th>Education_Doctorate</th>\n",
       "      <th>Categorical_Title</th>\n",
       "    </tr>\n",
       "  </thead>\n",
       "  <tbody>\n",
       "    <tr>\n",
       "      <th>0</th>\n",
       "      <td>graphic designer</td>\n",
       "      <td>0</td>\n",
       "      <td>0</td>\n",
       "      <td>1</td>\n",
       "      <td>0</td>\n",
       "      <td>0</td>\n",
       "      <td>6</td>\n",
       "    </tr>\n",
       "    <tr>\n",
       "      <th>1</th>\n",
       "      <td>graphic designer</td>\n",
       "      <td>0</td>\n",
       "      <td>1</td>\n",
       "      <td>1</td>\n",
       "      <td>0</td>\n",
       "      <td>0</td>\n",
       "      <td>6</td>\n",
       "    </tr>\n",
       "    <tr>\n",
       "      <th>2</th>\n",
       "      <td>graphic designer</td>\n",
       "      <td>0</td>\n",
       "      <td>0</td>\n",
       "      <td>1</td>\n",
       "      <td>0</td>\n",
       "      <td>0</td>\n",
       "      <td>6</td>\n",
       "    </tr>\n",
       "    <tr>\n",
       "      <th>3</th>\n",
       "      <td>graphic designer</td>\n",
       "      <td>0</td>\n",
       "      <td>0</td>\n",
       "      <td>1</td>\n",
       "      <td>0</td>\n",
       "      <td>0</td>\n",
       "      <td>6</td>\n",
       "    </tr>\n",
       "    <tr>\n",
       "      <th>4</th>\n",
       "      <td>graphic designer</td>\n",
       "      <td>0</td>\n",
       "      <td>1</td>\n",
       "      <td>1</td>\n",
       "      <td>0</td>\n",
       "      <td>0</td>\n",
       "      <td>6</td>\n",
       "    </tr>\n",
       "    <tr>\n",
       "      <th>...</th>\n",
       "      <td>...</td>\n",
       "      <td>...</td>\n",
       "      <td>...</td>\n",
       "      <td>...</td>\n",
       "      <td>...</td>\n",
       "      <td>...</td>\n",
       "      <td>...</td>\n",
       "    </tr>\n",
       "    <tr>\n",
       "      <th>1404</th>\n",
       "      <td>data scientist</td>\n",
       "      <td>1</td>\n",
       "      <td>1</td>\n",
       "      <td>0</td>\n",
       "      <td>0</td>\n",
       "      <td>0</td>\n",
       "      <td>3</td>\n",
       "    </tr>\n",
       "    <tr>\n",
       "      <th>1405</th>\n",
       "      <td>software developer</td>\n",
       "      <td>0</td>\n",
       "      <td>0</td>\n",
       "      <td>1</td>\n",
       "      <td>0</td>\n",
       "      <td>0</td>\n",
       "      <td>8</td>\n",
       "    </tr>\n",
       "    <tr>\n",
       "      <th>1406</th>\n",
       "      <td>software developer</td>\n",
       "      <td>1</td>\n",
       "      <td>0</td>\n",
       "      <td>1</td>\n",
       "      <td>0</td>\n",
       "      <td>0</td>\n",
       "      <td>8</td>\n",
       "    </tr>\n",
       "    <tr>\n",
       "      <th>1407</th>\n",
       "      <td>graphic designer</td>\n",
       "      <td>1</td>\n",
       "      <td>1</td>\n",
       "      <td>0</td>\n",
       "      <td>0</td>\n",
       "      <td>0</td>\n",
       "      <td>6</td>\n",
       "    </tr>\n",
       "    <tr>\n",
       "      <th>1408</th>\n",
       "      <td>full stack developer</td>\n",
       "      <td>1</td>\n",
       "      <td>0</td>\n",
       "      <td>0</td>\n",
       "      <td>0</td>\n",
       "      <td>0</td>\n",
       "      <td>5</td>\n",
       "    </tr>\n",
       "  </tbody>\n",
       "</table>\n",
       "<p>1409 rows × 7 columns</p>\n",
       "</div>"
      ],
      "text/plain": [
       "                 Title_New  Education_Tenth  Education_Twelvth  \\\n",
       "0         graphic designer                0                  0   \n",
       "1         graphic designer                0                  1   \n",
       "2         graphic designer                0                  0   \n",
       "3         graphic designer                0                  0   \n",
       "4         graphic designer                0                  1   \n",
       "...                    ...              ...                ...   \n",
       "1404        data scientist                1                  1   \n",
       "1405    software developer                0                  0   \n",
       "1406    software developer                1                  0   \n",
       "1407      graphic designer                1                  1   \n",
       "1408  full stack developer                1                  0   \n",
       "\n",
       "      Education_Bachelors  Education_Masters  Education_Doctorate  \\\n",
       "0                       1                  0                    0   \n",
       "1                       1                  0                    0   \n",
       "2                       1                  0                    0   \n",
       "3                       1                  0                    0   \n",
       "4                       1                  0                    0   \n",
       "...                   ...                ...                  ...   \n",
       "1404                    0                  0                    0   \n",
       "1405                    1                  0                    0   \n",
       "1406                    1                  0                    0   \n",
       "1407                    0                  0                    0   \n",
       "1408                    0                  0                    0   \n",
       "\n",
       "      Categorical_Title  \n",
       "0                     6  \n",
       "1                     6  \n",
       "2                     6  \n",
       "3                     6  \n",
       "4                     6  \n",
       "...                 ...  \n",
       "1404                  3  \n",
       "1405                  8  \n",
       "1406                  8  \n",
       "1407                  6  \n",
       "1408                  5  \n",
       "\n",
       "[1409 rows x 7 columns]"
      ]
     },
     "execution_count": 6,
     "metadata": {},
     "output_type": "execute_result"
    }
   ],
   "source": [
    "d"
   ]
  },
  {
   "cell_type": "code",
   "execution_count": 7,
   "metadata": {},
   "outputs": [],
   "source": [
    "x = d[['Education_Tenth', 'Education_Twelvth', 'Education_Bachelors', 'Education_Masters', 'Education_Doctorate']].values\n",
    "y = d['Categorical_Title'].values"
   ]
  },
  {
   "cell_type": "code",
   "execution_count": 8,
   "metadata": {},
   "outputs": [
    {
     "data": {
      "text/plain": [
       "array([[[1353,    0],\n",
       "        [  56,    0]],\n",
       "\n",
       "       [[1380,    0],\n",
       "        [  29,    0]],\n",
       "\n",
       "       [[1323,    0],\n",
       "        [  86,    0]],\n",
       "\n",
       "       [[1242,    0],\n",
       "        [ 167,    0]],\n",
       "\n",
       "       [[1279,    0],\n",
       "        [ 130,    0]],\n",
       "\n",
       "       [[1308,    0],\n",
       "        [ 101,    0]],\n",
       "\n",
       "       [[1248,    0],\n",
       "        [ 161,    0]],\n",
       "\n",
       "       [[1384,    0],\n",
       "        [  25,    0]],\n",
       "\n",
       "       [[   0,  925],\n",
       "        [   0,  484]],\n",
       "\n",
       "       [[1314,    0],\n",
       "        [  95,    0]],\n",
       "\n",
       "       [[1401,    0],\n",
       "        [   8,    0]],\n",
       "\n",
       "       [[1342,    0],\n",
       "        [  67,    0]]], dtype=int64)"
      ]
     },
     "execution_count": 8,
     "metadata": {},
     "output_type": "execute_result"
    }
   ],
   "source": [
    "multilabel_confusion_matrix(y, LogisticRegression().fit(x, y).predict(x))"
   ]
  },
  {
   "cell_type": "code",
   "execution_count": 9,
   "metadata": {},
   "outputs": [
    {
     "data": {
      "text/plain": [
       "0.3435060326472676"
      ]
     },
     "execution_count": 9,
     "metadata": {},
     "output_type": "execute_result"
    }
   ],
   "source": [
    "accuracy_score(y, LogisticRegression().fit(x, y).predict(x))"
   ]
  },
  {
   "cell_type": "code",
   "execution_count": 10,
   "metadata": {},
   "outputs": [
    {
     "data": {
      "text/plain": [
       "array([[  0,   0,   0,   0,   0,   0,   0,   0,  56,   0,   0,   0],\n",
       "       [  0,   0,   0,   0,   0,   0,   0,   0,  29,   0,   0,   0],\n",
       "       [  0,   0,   0,   0,   0,   0,   0,   0,  86,   0,   0,   0],\n",
       "       [  0,   0,   0,   0,   0,   0,   0,   0, 167,   0,   0,   0],\n",
       "       [  0,   0,   0,   0,   0,   0,   0,   0, 130,   0,   0,   0],\n",
       "       [  0,   0,   0,   0,   0,   0,   0,   0, 101,   0,   0,   0],\n",
       "       [  0,   0,   0,   0,   0,   0,   0,   0, 161,   0,   0,   0],\n",
       "       [  0,   0,   0,   0,   0,   0,   0,   0,  25,   0,   0,   0],\n",
       "       [  0,   0,   0,   0,   0,   0,   0,   0, 484,   0,   0,   0],\n",
       "       [  0,   0,   0,   0,   0,   0,   0,   0,  95,   0,   0,   0],\n",
       "       [  0,   0,   0,   0,   0,   0,   0,   0,   8,   0,   0,   0],\n",
       "       [  0,   0,   0,   0,   0,   0,   0,   0,  67,   0,   0,   0]],\n",
       "      dtype=int64)"
      ]
     },
     "execution_count": 10,
     "metadata": {},
     "output_type": "execute_result"
    }
   ],
   "source": [
    "confusion_matrix(y, LogisticRegression().fit(x, y).predict(x))"
   ]
  },
  {
   "cell_type": "code",
   "execution_count": 11,
   "metadata": {},
   "outputs": [
    {
     "data": {
      "text/plain": [
       "0.3435060326472676"
      ]
     },
     "execution_count": 11,
     "metadata": {},
     "output_type": "execute_result"
    }
   ],
   "source": [
    "accuracy_score(y, CalibratedClassifierCV().fit(x, y).predict(x))"
   ]
  },
  {
   "cell_type": "code",
   "execution_count": 12,
   "metadata": {},
   "outputs": [
    {
     "data": {
      "text/plain": [
       "array([[  0,   0,   0,   0,   0,   0,   0,   0,  56,   0,   0,   0],\n",
       "       [  0,   0,   0,   0,   0,   0,   0,   0,  29,   0,   0,   0],\n",
       "       [  0,   0,   0,   0,   0,   0,   0,   0,  86,   0,   0,   0],\n",
       "       [  0,   0,   0,   0,   0,   0,   0,   0, 167,   0,   0,   0],\n",
       "       [  0,   0,   0,   0,   0,   0,   0,   0, 130,   0,   0,   0],\n",
       "       [  0,   0,   0,   0,   0,   0,   0,   0, 101,   0,   0,   0],\n",
       "       [  0,   0,   0,   0,   0,   0,   0,   0, 161,   0,   0,   0],\n",
       "       [  0,   0,   0,   0,   0,   0,   0,   0,  25,   0,   0,   0],\n",
       "       [  0,   0,   0,   0,   0,   0,   0,   0, 484,   0,   0,   0],\n",
       "       [  0,   0,   0,   0,   0,   0,   0,   0,  95,   0,   0,   0],\n",
       "       [  0,   0,   0,   0,   0,   0,   0,   0,   8,   0,   0,   0],\n",
       "       [  0,   0,   0,   0,   0,   0,   0,   0,  67,   0,   0,   0]],\n",
       "      dtype=int64)"
      ]
     },
     "execution_count": 12,
     "metadata": {},
     "output_type": "execute_result"
    }
   ],
   "source": [
    "confusion_matrix(y, CalibratedClassifierCV().fit(x, y).predict(x))"
   ]
  },
  {
   "cell_type": "code",
   "execution_count": 13,
   "metadata": {},
   "outputs": [
    {
     "data": {
      "text/plain": [
       "0.1710432931156849"
      ]
     },
     "execution_count": 13,
     "metadata": {},
     "output_type": "execute_result"
    }
   ],
   "source": [
    "accuracy_score(y, DummyClassifier().fit(x, y).predict(x))"
   ]
  },
  {
   "cell_type": "code",
   "execution_count": 14,
   "metadata": {},
   "outputs": [
    {
     "data": {
      "text/plain": [
       "array([[  3,   1,   2,   5,  10,   1,   7,   0,  23,   2,   0,   2],\n",
       "       [  1,   0,   2,   2,   4,   2,   4,   1,  11,   2,   0,   0],\n",
       "       [  4,   3,   8,  12,   5,   5,  10,   1,  25,   6,   2,   5],\n",
       "       [  9,   2,  11,  21,  15,   8,  23,   2,  54,   9,   1,  12],\n",
       "       [  4,   2,   6,  15,  13,   4,  21,   1,  49,   9,   0,   6],\n",
       "       [  9,   1,   6,  11,   9,   6,  12,   1,  32,   5,   3,   6],\n",
       "       [  9,   2,   6,  19,  16,  12,  22,   1,  53,  12,   3,   6],\n",
       "       [  0,   0,   1,   4,   5,   0,   2,   0,   9,   1,   1,   2],\n",
       "       [ 17,  11,  29,  57,  44,  30,  52,   9, 175,  33,   3,  24],\n",
       "       [  2,   0,   9,  18,   4,   5,   9,   2,  30,  13,   0,   3],\n",
       "       [  0,   0,   1,   1,   0,   1,   1,   0,   3,   1,   0,   0],\n",
       "       [  0,   2,   2,  11,   3,   2,   7,   1,  27,   4,   0,   8]],\n",
       "      dtype=int64)"
      ]
     },
     "execution_count": 14,
     "metadata": {},
     "output_type": "execute_result"
    }
   ],
   "source": [
    "confusion_matrix(y, DummyClassifier().fit(x, y).predict(x))"
   ]
  },
  {
   "cell_type": "code",
   "execution_count": 15,
   "metadata": {},
   "outputs": [
    {
     "data": {
      "text/plain": [
       "0.2427253371185238"
      ]
     },
     "execution_count": 15,
     "metadata": {},
     "output_type": "execute_result"
    }
   ],
   "source": [
    "accuracy_score(y, AdaBoostClassifier().fit(x, y).predict(x))"
   ]
  },
  {
   "cell_type": "code",
   "execution_count": 16,
   "metadata": {},
   "outputs": [
    {
     "data": {
      "text/plain": [
       "array([[  0,   0,   0,   1,   0,   0,   0,   0,  55,   0,   0,   0],\n",
       "       [  0,   0,   0,   0,   0,   0,   0,   0,  29,   0,   0,   0],\n",
       "       [  0,   0,   0,   1,   0,   0,   4,   0,  81,   0,   0,   0],\n",
       "       [  0,   0,   0,  30,   0,   0,  11,   0, 126,   0,   0,   0],\n",
       "       [  0,   0,   0,  16,   0,   0,   2,   0, 112,   0,   0,   0],\n",
       "       [  0,   0,   0,  20,   0,   0,   0,   0,  81,   0,   0,   0],\n",
       "       [  0,   0,   0,  14,   0,   0,  20,   0, 127,   0,   0,   0],\n",
       "       [  0,   0,   0,  17,   0,   0,   0,   0,   8,   0,   0,   0],\n",
       "       [  0,   0,   0, 140,   0,   0,  52,   0, 292,   0,   0,   0],\n",
       "       [  0,   0,   0,  18,   0,   0,   2,   0,  75,   0,   0,   0],\n",
       "       [  0,   0,   0,   0,   0,   0,   0,   0,   8,   0,   0,   0],\n",
       "       [  0,   0,   0,   9,   0,   0,   3,   0,  55,   0,   0,   0]],\n",
       "      dtype=int64)"
      ]
     },
     "execution_count": 16,
     "metadata": {},
     "output_type": "execute_result"
    }
   ],
   "source": [
    "confusion_matrix(y, AdaBoostClassifier().fit(x, y).predict(x))"
   ]
  },
  {
   "cell_type": "code",
   "execution_count": 17,
   "metadata": {},
   "outputs": [
    {
     "data": {
      "text/plain": [
       "0.3534421575585522"
      ]
     },
     "execution_count": 17,
     "metadata": {},
     "output_type": "execute_result"
    }
   ],
   "source": [
    "accuracy_score(y, BaggingClassifier().fit(x, y).predict(x))"
   ]
  },
  {
   "cell_type": "code",
   "execution_count": 18,
   "metadata": {},
   "outputs": [
    {
     "data": {
      "text/plain": [
       "array([[  0,   0,   0,   0,   0,   0,   0,   0,  56,   0,   0,   0],\n",
       "       [  0,   0,   0,   0,   0,   0,   0,   0,  29,   0,   0,   0],\n",
       "       [  0,   0,   0,   0,   0,   0,   0,   0,  86,   0,   0,   0],\n",
       "       [  0,   0,   0,  19,   0,   0,   0,   0, 148,   0,   0,   0],\n",
       "       [  0,   0,   0,   0,   0,   0,   0,   0, 130,   0,   0,   0],\n",
       "       [  0,   0,   0,   0,   0,   0,   0,   0, 101,   0,   0,   0],\n",
       "       [  0,   0,   0,   4,   0,   0,   0,   0, 157,   0,   0,   0],\n",
       "       [  0,   0,   0,   0,   0,   0,   0,   0,  25,   0,   0,   0],\n",
       "       [  0,   0,   0,   5,   0,   0,   0,   0, 479,   0,   0,   0],\n",
       "       [  0,   0,   0,   1,   0,   0,   0,   0,  94,   0,   0,   0],\n",
       "       [  0,   0,   0,   0,   0,   0,   0,   0,   8,   0,   0,   0],\n",
       "       [  0,   0,   0,   1,   0,   0,   0,   0,  66,   0,   0,   0]],\n",
       "      dtype=int64)"
      ]
     },
     "execution_count": 18,
     "metadata": {},
     "output_type": "execute_result"
    }
   ],
   "source": [
    "confusion_matrix(y, BaggingClassifier().fit(x, y).predict(x))"
   ]
  },
  {
   "cell_type": "code",
   "execution_count": 19,
   "metadata": {},
   "outputs": [
    {
     "data": {
      "text/plain": [
       "0.3534421575585522"
      ]
     },
     "execution_count": 19,
     "metadata": {},
     "output_type": "execute_result"
    }
   ],
   "source": [
    "accuracy_score(y, ExtraTreesClassifier().fit(x, y).predict(x))"
   ]
  },
  {
   "cell_type": "code",
   "execution_count": 20,
   "metadata": {},
   "outputs": [
    {
     "data": {
      "text/plain": [
       "array([[  0,   0,   0,   0,   0,   0,   0,   0,  56,   0,   0,   0],\n",
       "       [  0,   0,   0,   0,   0,   0,   0,   0,  29,   0,   0,   0],\n",
       "       [  0,   0,   0,   0,   0,   0,   0,   0,  86,   0,   0,   0],\n",
       "       [  0,   0,   0,  19,   0,   0,   0,   0, 148,   0,   0,   0],\n",
       "       [  0,   0,   0,   0,   0,   0,   0,   0, 130,   0,   0,   0],\n",
       "       [  0,   0,   0,   0,   0,   0,   0,   0, 101,   0,   0,   0],\n",
       "       [  0,   0,   0,   4,   0,   0,   0,   0, 157,   0,   0,   0],\n",
       "       [  0,   0,   0,   0,   0,   0,   0,   0,  25,   0,   0,   0],\n",
       "       [  0,   0,   0,   5,   0,   0,   0,   0, 479,   0,   0,   0],\n",
       "       [  0,   0,   0,   1,   0,   0,   0,   0,  94,   0,   0,   0],\n",
       "       [  0,   0,   0,   0,   0,   0,   0,   0,   8,   0,   0,   0],\n",
       "       [  0,   0,   0,   1,   0,   0,   0,   0,  66,   0,   0,   0]],\n",
       "      dtype=int64)"
      ]
     },
     "execution_count": 20,
     "metadata": {},
     "output_type": "execute_result"
    }
   ],
   "source": [
    "confusion_matrix(y, ExtraTreesClassifier().fit(x, y).predict(x))"
   ]
  },
  {
   "cell_type": "code",
   "execution_count": 21,
   "metadata": {},
   "outputs": [
    {
     "data": {
      "text/plain": [
       "0.3534421575585522"
      ]
     },
     "execution_count": 21,
     "metadata": {},
     "output_type": "execute_result"
    }
   ],
   "source": [
    "accuracy_score(y, GradientBoostingClassifier().fit(x, y).predict(x))"
   ]
  },
  {
   "cell_type": "code",
   "execution_count": 22,
   "metadata": {},
   "outputs": [
    {
     "data": {
      "text/plain": [
       "array([[  0,   0,   0,   0,   0,   0,   0,   0,  56,   0,   0,   0],\n",
       "       [  0,   0,   0,   0,   0,   0,   0,   0,  29,   0,   0,   0],\n",
       "       [  0,   0,   0,   0,   0,   0,   0,   0,  86,   0,   0,   0],\n",
       "       [  0,   0,   0,  19,   0,   0,   0,   0, 148,   0,   0,   0],\n",
       "       [  0,   0,   0,   0,   0,   0,   0,   0, 130,   0,   0,   0],\n",
       "       [  0,   0,   0,   0,   0,   0,   0,   0, 101,   0,   0,   0],\n",
       "       [  0,   0,   0,   4,   0,   0,   0,   0, 157,   0,   0,   0],\n",
       "       [  0,   0,   0,   0,   0,   0,   0,   0,  25,   0,   0,   0],\n",
       "       [  0,   0,   0,   5,   0,   0,   0,   0, 479,   0,   0,   0],\n",
       "       [  0,   0,   0,   1,   0,   0,   0,   0,  94,   0,   0,   0],\n",
       "       [  0,   0,   0,   0,   0,   0,   0,   0,   8,   0,   0,   0],\n",
       "       [  0,   0,   0,   1,   0,   0,   0,   0,  66,   0,   0,   0]],\n",
       "      dtype=int64)"
      ]
     },
     "execution_count": 22,
     "metadata": {},
     "output_type": "execute_result"
    }
   ],
   "source": [
    "confusion_matrix(y, GradientBoostingClassifier().fit(x, y).predict(x))"
   ]
  },
  {
   "cell_type": "code",
   "execution_count": 23,
   "metadata": {},
   "outputs": [
    {
     "data": {
      "text/plain": [
       "0.3534421575585522"
      ]
     },
     "execution_count": 23,
     "metadata": {},
     "output_type": "execute_result"
    }
   ],
   "source": [
    "accuracy_score(y, RandomForestClassifier().fit(x, y).predict(x))"
   ]
  },
  {
   "cell_type": "code",
   "execution_count": 24,
   "metadata": {},
   "outputs": [
    {
     "data": {
      "text/plain": [
       "array([[  0,   0,   0,   0,   0,   0,   0,   0,  56,   0,   0,   0],\n",
       "       [  0,   0,   0,   0,   0,   0,   0,   0,  29,   0,   0,   0],\n",
       "       [  0,   0,   0,   0,   0,   0,   0,   0,  86,   0,   0,   0],\n",
       "       [  0,   0,   0,  19,   0,   0,   0,   0, 148,   0,   0,   0],\n",
       "       [  0,   0,   0,   0,   0,   0,   0,   0, 130,   0,   0,   0],\n",
       "       [  0,   0,   0,   0,   0,   0,   0,   0, 101,   0,   0,   0],\n",
       "       [  0,   0,   0,   4,   0,   0,   0,   0, 157,   0,   0,   0],\n",
       "       [  0,   0,   0,   0,   0,   0,   0,   0,  25,   0,   0,   0],\n",
       "       [  0,   0,   0,   5,   0,   0,   0,   0, 479,   0,   0,   0],\n",
       "       [  0,   0,   0,   1,   0,   0,   0,   0,  94,   0,   0,   0],\n",
       "       [  0,   0,   0,   0,   0,   0,   0,   0,   8,   0,   0,   0],\n",
       "       [  0,   0,   0,   1,   0,   0,   0,   0,  66,   0,   0,   0]],\n",
       "      dtype=int64)"
      ]
     },
     "execution_count": 24,
     "metadata": {},
     "output_type": "execute_result"
    }
   ],
   "source": [
    "confusion_matrix(y, RandomForestClassifier().fit(x, y).predict(x))"
   ]
  },
  {
   "cell_type": "code",
   "execution_count": 25,
   "metadata": {},
   "outputs": [
    {
     "data": {
      "text/plain": [
       "0.3534421575585522"
      ]
     },
     "execution_count": 25,
     "metadata": {},
     "output_type": "execute_result"
    }
   ],
   "source": [
    "accuracy_score(y, GaussianProcessClassifier().fit(x, y).predict(x))"
   ]
  },
  {
   "cell_type": "code",
   "execution_count": 26,
   "metadata": {},
   "outputs": [
    {
     "data": {
      "text/plain": [
       "array([[  0,   0,   0,   0,   0,   0,   0,   0,  56,   0,   0,   0],\n",
       "       [  0,   0,   0,   0,   0,   0,   0,   0,  29,   0,   0,   0],\n",
       "       [  0,   0,   0,   0,   0,   0,   0,   0,  86,   0,   0,   0],\n",
       "       [  0,   0,   0,  19,   0,   0,   0,   0, 148,   0,   0,   0],\n",
       "       [  0,   0,   0,   0,   0,   0,   0,   0, 130,   0,   0,   0],\n",
       "       [  0,   0,   0,   0,   0,   0,   0,   0, 101,   0,   0,   0],\n",
       "       [  0,   0,   0,   4,   0,   0,   0,   0, 157,   0,   0,   0],\n",
       "       [  0,   0,   0,   0,   0,   0,   0,   0,  25,   0,   0,   0],\n",
       "       [  0,   0,   0,   5,   0,   0,   0,   0, 479,   0,   0,   0],\n",
       "       [  0,   0,   0,   1,   0,   0,   0,   0,  94,   0,   0,   0],\n",
       "       [  0,   0,   0,   0,   0,   0,   0,   0,   8,   0,   0,   0],\n",
       "       [  0,   0,   0,   1,   0,   0,   0,   0,  66,   0,   0,   0]],\n",
       "      dtype=int64)"
      ]
     },
     "execution_count": 26,
     "metadata": {},
     "output_type": "execute_result"
    }
   ],
   "source": [
    "confusion_matrix(y, GaussianProcessClassifier().fit(x, y).predict(x))"
   ]
  },
  {
   "cell_type": "code",
   "execution_count": 27,
   "metadata": {},
   "outputs": [
    {
     "data": {
      "text/plain": [
       "0.3435060326472676"
      ]
     },
     "execution_count": 27,
     "metadata": {},
     "output_type": "execute_result"
    }
   ],
   "source": [
    "accuracy_score(y, LogisticRegressionCV().fit(x, y).predict(x))"
   ]
  },
  {
   "cell_type": "code",
   "execution_count": 28,
   "metadata": {},
   "outputs": [
    {
     "data": {
      "text/plain": [
       "array([[  0,   0,   0,   0,   0,   0,   0,   0,  56,   0,   0,   0],\n",
       "       [  0,   0,   0,   0,   0,   0,   0,   0,  29,   0,   0,   0],\n",
       "       [  0,   0,   0,   0,   0,   0,   0,   0,  86,   0,   0,   0],\n",
       "       [  0,   0,   0,   0,   0,   0,   0,   0, 167,   0,   0,   0],\n",
       "       [  0,   0,   0,   0,   0,   0,   0,   0, 130,   0,   0,   0],\n",
       "       [  0,   0,   0,   0,   0,   0,   0,   0, 101,   0,   0,   0],\n",
       "       [  0,   0,   0,   0,   0,   0,   0,   0, 161,   0,   0,   0],\n",
       "       [  0,   0,   0,   0,   0,   0,   0,   0,  25,   0,   0,   0],\n",
       "       [  0,   0,   0,   0,   0,   0,   0,   0, 484,   0,   0,   0],\n",
       "       [  0,   0,   0,   0,   0,   0,   0,   0,  95,   0,   0,   0],\n",
       "       [  0,   0,   0,   0,   0,   0,   0,   0,   8,   0,   0,   0],\n",
       "       [  0,   0,   0,   0,   0,   0,   0,   0,  67,   0,   0,   0]],\n",
       "      dtype=int64)"
      ]
     },
     "execution_count": 28,
     "metadata": {},
     "output_type": "execute_result"
    }
   ],
   "source": [
    "confusion_matrix(y, LogisticRegressionCV().fit(x, y).predict(x))"
   ]
  },
  {
   "cell_type": "code",
   "execution_count": 29,
   "metadata": {},
   "outputs": [
    {
     "data": {
      "text/plain": [
       "0.27466288147622425"
      ]
     },
     "execution_count": 29,
     "metadata": {},
     "output_type": "execute_result"
    }
   ],
   "source": [
    "accuracy_score(y, PassiveAggressiveClassifier().fit(x, y).predict(x))"
   ]
  },
  {
   "cell_type": "code",
   "execution_count": 30,
   "metadata": {},
   "outputs": [
    {
     "data": {
      "text/plain": [
       "array([[  0,   0,   0,   0,   0,  55,   0,   0,   1,   0,   0,   0],\n",
       "       [  0,   0,   0,   0,   0,  29,   0,   0,   0,   0,   0,   0],\n",
       "       [  0,   0,   0,   0,   0,  78,   0,   0,   8,   0,   0,   0],\n",
       "       [  0,   0,   0,   0,   0, 102,   0,   0,  65,   0,   0,   0],\n",
       "       [  0,   0,   0,   0,   0,  99,   0,   0,  31,   0,   0,   0],\n",
       "       [  0,   0,   0,   0,   0,  81,   0,   0,  20,   0,   0,   0],\n",
       "       [  0,   0,   0,   0,   0, 118,   0,   0,  43,   0,   0,   0],\n",
       "       [  0,   0,   0,   0,   0,   8,   0,   0,  17,   0,   0,   0],\n",
       "       [  0,   0,   0,   0,   0, 226,   0,   0, 258,   0,   0,   0],\n",
       "       [  0,   0,   0,   0,   0,  54,   0,   0,  41,   0,   0,   0],\n",
       "       [  0,   0,   0,   0,   0,   8,   0,   0,   0,   0,   0,   0],\n",
       "       [  0,   0,   0,   0,   0,  52,   0,   0,  15,   0,   0,   0]],\n",
       "      dtype=int64)"
      ]
     },
     "execution_count": 30,
     "metadata": {},
     "output_type": "execute_result"
    }
   ],
   "source": [
    "confusion_matrix(y, PassiveAggressiveClassifier().fit(x, y).predict(x))"
   ]
  },
  {
   "cell_type": "code",
   "execution_count": 31,
   "metadata": {},
   "outputs": [
    {
     "data": {
      "text/plain": [
       "0.22214336408800567"
      ]
     },
     "execution_count": 31,
     "metadata": {},
     "output_type": "execute_result"
    }
   ],
   "source": [
    "accuracy_score(y, Perceptron().fit(x, y).predict(x))"
   ]
  },
  {
   "cell_type": "code",
   "execution_count": 32,
   "metadata": {},
   "outputs": [
    {
     "data": {
      "text/plain": [
       "array([[ 55,   0,   0,   0,   0,   0,   0,   0,   1,   0,   0,   0],\n",
       "       [ 29,   0,   0,   0,   0,   0,   0,   0,   0,   0,   0,   0],\n",
       "       [ 78,   0,   0,   0,   0,   0,   0,   0,   8,   0,   0,   0],\n",
       "       [102,   0,   0,   0,   0,   0,   0,   0,  65,   0,   0,   0],\n",
       "       [ 99,   0,   0,   0,   0,   0,   0,   0,  31,   0,   0,   0],\n",
       "       [ 81,   0,   0,   0,   0,   0,   0,   0,  20,   0,   0,   0],\n",
       "       [118,   0,   0,   0,   0,   0,   0,   0,  43,   0,   0,   0],\n",
       "       [  8,   0,   0,   0,   0,   0,   0,   0,  17,   0,   0,   0],\n",
       "       [226,   0,   0,   0,   0,   0,   0,   0, 258,   0,   0,   0],\n",
       "       [ 54,   0,   0,   0,   0,   0,   0,   0,  41,   0,   0,   0],\n",
       "       [  8,   0,   0,   0,   0,   0,   0,   0,   0,   0,   0,   0],\n",
       "       [ 52,   0,   0,   0,   0,   0,   0,   0,  15,   0,   0,   0]],\n",
       "      dtype=int64)"
      ]
     },
     "execution_count": 32,
     "metadata": {},
     "output_type": "execute_result"
    }
   ],
   "source": [
    "confusion_matrix(y, Perceptron().fit(x, y).predict(x))"
   ]
  },
  {
   "cell_type": "code",
   "execution_count": 33,
   "metadata": {},
   "outputs": [
    {
     "data": {
      "text/plain": [
       "0.3435060326472676"
      ]
     },
     "execution_count": 33,
     "metadata": {},
     "output_type": "execute_result"
    }
   ],
   "source": [
    "accuracy_score(y, RidgeClassifier().fit(x, y).predict(x))"
   ]
  },
  {
   "cell_type": "code",
   "execution_count": 34,
   "metadata": {},
   "outputs": [
    {
     "data": {
      "text/plain": [
       "array([[  0,   0,   0,   0,   0,   0,   0,   0,  56,   0,   0,   0],\n",
       "       [  0,   0,   0,   0,   0,   0,   0,   0,  29,   0,   0,   0],\n",
       "       [  0,   0,   0,   0,   0,   0,   0,   0,  86,   0,   0,   0],\n",
       "       [  0,   0,   0,   0,   0,   0,   0,   0, 167,   0,   0,   0],\n",
       "       [  0,   0,   0,   0,   0,   0,   0,   0, 130,   0,   0,   0],\n",
       "       [  0,   0,   0,   0,   0,   0,   0,   0, 101,   0,   0,   0],\n",
       "       [  0,   0,   0,   0,   0,   0,   0,   0, 161,   0,   0,   0],\n",
       "       [  0,   0,   0,   0,   0,   0,   0,   0,  25,   0,   0,   0],\n",
       "       [  0,   0,   0,   0,   0,   0,   0,   0, 484,   0,   0,   0],\n",
       "       [  0,   0,   0,   0,   0,   0,   0,   0,  95,   0,   0,   0],\n",
       "       [  0,   0,   0,   0,   0,   0,   0,   0,   8,   0,   0,   0],\n",
       "       [  0,   0,   0,   0,   0,   0,   0,   0,  67,   0,   0,   0]],\n",
       "      dtype=int64)"
      ]
     },
     "execution_count": 34,
     "metadata": {},
     "output_type": "execute_result"
    }
   ],
   "source": [
    "confusion_matrix(y, RidgeClassifier().fit(x, y).predict(x))"
   ]
  },
  {
   "cell_type": "code",
   "execution_count": 35,
   "metadata": {},
   "outputs": [
    {
     "data": {
      "text/plain": [
       "0.3435060326472676"
      ]
     },
     "execution_count": 35,
     "metadata": {},
     "output_type": "execute_result"
    }
   ],
   "source": [
    "accuracy_score(y, RidgeClassifierCV().fit(x, y).predict(x))"
   ]
  },
  {
   "cell_type": "code",
   "execution_count": 36,
   "metadata": {},
   "outputs": [
    {
     "data": {
      "text/plain": [
       "array([[  0,   0,   0,   0,   0,   0,   0,   0,  56,   0,   0,   0],\n",
       "       [  0,   0,   0,   0,   0,   0,   0,   0,  29,   0,   0,   0],\n",
       "       [  0,   0,   0,   0,   0,   0,   0,   0,  86,   0,   0,   0],\n",
       "       [  0,   0,   0,   0,   0,   0,   0,   0, 167,   0,   0,   0],\n",
       "       [  0,   0,   0,   0,   0,   0,   0,   0, 130,   0,   0,   0],\n",
       "       [  0,   0,   0,   0,   0,   0,   0,   0, 101,   0,   0,   0],\n",
       "       [  0,   0,   0,   0,   0,   0,   0,   0, 161,   0,   0,   0],\n",
       "       [  0,   0,   0,   0,   0,   0,   0,   0,  25,   0,   0,   0],\n",
       "       [  0,   0,   0,   0,   0,   0,   0,   0, 484,   0,   0,   0],\n",
       "       [  0,   0,   0,   0,   0,   0,   0,   0,  95,   0,   0,   0],\n",
       "       [  0,   0,   0,   0,   0,   0,   0,   0,   8,   0,   0,   0],\n",
       "       [  0,   0,   0,   0,   0,   0,   0,   0,  67,   0,   0,   0]],\n",
       "      dtype=int64)"
      ]
     },
     "execution_count": 36,
     "metadata": {},
     "output_type": "execute_result"
    }
   ],
   "source": [
    "confusion_matrix(y, RidgeClassifierCV().fit(x, y).predict(x))"
   ]
  },
  {
   "cell_type": "code",
   "execution_count": 37,
   "metadata": {},
   "outputs": [
    {
     "data": {
      "text/plain": [
       "0.18878637331440737"
      ]
     },
     "execution_count": 37,
     "metadata": {},
     "output_type": "execute_result"
    }
   ],
   "source": [
    "accuracy_score(y, SGDClassifier().fit(x, y).predict(x))"
   ]
  },
  {
   "cell_type": "code",
   "execution_count": 38,
   "metadata": {},
   "outputs": [
    {
     "data": {
      "text/plain": [
       "array([[  0,   0,  55,   0,   0,   0,   0,   0,   1,   0,   0,   0],\n",
       "       [  0,   0,  29,   0,   0,   0,   0,   0,   0,   0,   0,   0],\n",
       "       [  0,   0,  78,   3,   0,   0,   0,   0,   5,   0,   0,   0],\n",
       "       [  0,   0, 102,   5,   0,   0,   0,   0,  60,   0,   0,   0],\n",
       "       [  0,   0,  99,   2,   0,   0,   0,   0,  29,   0,   0,   0],\n",
       "       [  0,   0,  81,   0,   0,   0,   0,   0,  20,   0,   0,   0],\n",
       "       [  0,   0, 118,   0,   0,   0,   0,   0,  43,   0,   0,   0],\n",
       "       [  0,   0,   8,   0,   0,   0,   0,   0,  17,   0,   0,   0],\n",
       "       [  0,   0, 226,  23,   0,   0,   0,   0, 235,   0,   0,   0],\n",
       "       [  0,   0,  54,  18,   0,   0,   0,   0,  23,   0,   0,   0],\n",
       "       [  0,   0,   8,   0,   0,   0,   0,   0,   0,   0,   0,   0],\n",
       "       [  0,   0,  52,   2,   0,   0,   0,   0,  13,   0,   0,   0]],\n",
       "      dtype=int64)"
      ]
     },
     "execution_count": 38,
     "metadata": {},
     "output_type": "execute_result"
    }
   ],
   "source": [
    "confusion_matrix(y, SGDClassifier().fit(x, y).predict(x))"
   ]
  },
  {
   "cell_type": "code",
   "execution_count": 39,
   "metadata": {},
   "outputs": [
    {
     "data": {
      "text/plain": [
       "0.19730305180979418"
      ]
     },
     "execution_count": 39,
     "metadata": {},
     "output_type": "execute_result"
    }
   ],
   "source": [
    "accuracy_score(y, KNeighborsClassifier().fit(x, y).predict(x))"
   ]
  },
  {
   "cell_type": "code",
   "execution_count": 40,
   "metadata": {},
   "outputs": [
    {
     "data": {
      "text/plain": [
       "array([[  0,   0,   0,   1,   0,   0,  55,   0,   0,   0,   0,   0],\n",
       "       [  0,   0,   0,   0,   0,   0,  29,   0,   0,   0,   0,   0],\n",
       "       [  0,   0,   0,   1,   0,   0,  82,   0,   3,   0,   0,   0],\n",
       "       [  0,   0,   0,  47,   0,   0, 113,   0,   7,   0,   0,   0],\n",
       "       [  0,   0,   0,  16,   0,   0, 101,   0,  13,   0,   0,   0],\n",
       "       [  0,   0,   0,  20,   0,   0,  81,   0,   0,   0,   0,   0],\n",
       "       [  0,   0,   0,  18,   0,   0, 138,   0,   5,   0,   0,   0],\n",
       "       [  0,   0,   0,  17,   0,   0,   8,   0,   0,   0,   0,   0],\n",
       "       [  0,   0,   0, 113,   0,   0, 278,   0,  93,   0,   0,   0],\n",
       "       [  0,   0,   0,  19,   0,   0,  56,   0,  20,   0,   0,   0],\n",
       "       [  0,   0,   0,   0,   0,   0,   8,   0,   0,   0,   0,   0],\n",
       "       [  0,   0,   0,  10,   0,   0,  55,   0,   2,   0,   0,   0]],\n",
       "      dtype=int64)"
      ]
     },
     "execution_count": 40,
     "metadata": {},
     "output_type": "execute_result"
    }
   ],
   "source": [
    "confusion_matrix(y, KNeighborsClassifier().fit(x, y).predict(x))"
   ]
  },
  {
   "cell_type": "code",
   "execution_count": 41,
   "metadata": {},
   "outputs": [
    {
     "data": {
      "text/plain": [
       "0.3534421575585522"
      ]
     },
     "execution_count": 41,
     "metadata": {},
     "output_type": "execute_result"
    }
   ],
   "source": [
    "accuracy_score(y, MLPClassifier().fit(x, y).predict(x))"
   ]
  },
  {
   "cell_type": "code",
   "execution_count": 42,
   "metadata": {},
   "outputs": [
    {
     "data": {
      "text/plain": [
       "array([[  0,   0,   0,   0,   0,   0,   0,   0,  56,   0,   0,   0],\n",
       "       [  0,   0,   0,   0,   0,   0,   0,   0,  29,   0,   0,   0],\n",
       "       [  0,   0,   0,   0,   0,   0,   0,   0,  86,   0,   0,   0],\n",
       "       [  0,   0,   0,  19,   0,   0,   0,   0, 148,   0,   0,   0],\n",
       "       [  0,   0,   0,   0,   0,   0,   0,   0, 130,   0,   0,   0],\n",
       "       [  0,   0,   0,   0,   0,   0,   0,   0, 101,   0,   0,   0],\n",
       "       [  0,   0,   0,   4,   0,   0,   0,   0, 157,   0,   0,   0],\n",
       "       [  0,   0,   0,   0,   0,   0,   0,   0,  25,   0,   0,   0],\n",
       "       [  0,   0,   0,   5,   0,   0,   0,   0, 479,   0,   0,   0],\n",
       "       [  0,   0,   0,   1,   0,   0,   0,   0,  94,   0,   0,   0],\n",
       "       [  0,   0,   0,   0,   0,   0,   0,   0,   8,   0,   0,   0],\n",
       "       [  0,   0,   0,   1,   0,   0,   0,   0,  66,   0,   0,   0]],\n",
       "      dtype=int64)"
      ]
     },
     "execution_count": 42,
     "metadata": {},
     "output_type": "execute_result"
    }
   ],
   "source": [
    "confusion_matrix(y, MLPClassifier().fit(x, y).predict(x))"
   ]
  },
  {
   "cell_type": "code",
   "execution_count": 43,
   "metadata": {},
   "outputs": [
    {
     "data": {
      "text/plain": [
       "0.3435060326472676"
      ]
     },
     "execution_count": 43,
     "metadata": {},
     "output_type": "execute_result"
    }
   ],
   "source": [
    "accuracy_score(y, LinearSVC().fit(x, y).predict(x))"
   ]
  },
  {
   "cell_type": "code",
   "execution_count": 44,
   "metadata": {},
   "outputs": [
    {
     "data": {
      "text/plain": [
       "array([[  0,   0,   0,   0,   0,   0,   0,   0,  56,   0,   0,   0],\n",
       "       [  0,   0,   0,   0,   0,   0,   0,   0,  29,   0,   0,   0],\n",
       "       [  0,   0,   0,   0,   0,   0,   0,   0,  86,   0,   0,   0],\n",
       "       [  0,   0,   0,   0,   0,   0,   0,   0, 167,   0,   0,   0],\n",
       "       [  0,   0,   0,   0,   0,   0,   0,   0, 130,   0,   0,   0],\n",
       "       [  0,   0,   0,   0,   0,   0,   0,   0, 101,   0,   0,   0],\n",
       "       [  0,   0,   0,   0,   0,   0,   0,   0, 161,   0,   0,   0],\n",
       "       [  0,   0,   0,   0,   0,   0,   0,   0,  25,   0,   0,   0],\n",
       "       [  0,   0,   0,   0,   0,   0,   0,   0, 484,   0,   0,   0],\n",
       "       [  0,   0,   0,   0,   0,   0,   0,   0,  95,   0,   0,   0],\n",
       "       [  0,   0,   0,   0,   0,   0,   0,   0,   8,   0,   0,   0],\n",
       "       [  0,   0,   0,   0,   0,   0,   0,   0,  67,   0,   0,   0]],\n",
       "      dtype=int64)"
      ]
     },
     "execution_count": 44,
     "metadata": {},
     "output_type": "execute_result"
    }
   ],
   "source": [
    "confusion_matrix(y, LinearSVC().fit(x, y).predict(x))"
   ]
  },
  {
   "cell_type": "code",
   "execution_count": 45,
   "metadata": {},
   "outputs": [
    {
     "data": {
      "text/plain": [
       "0.07523066004258339"
      ]
     },
     "execution_count": 45,
     "metadata": {},
     "output_type": "execute_result"
    }
   ],
   "source": [
    "accuracy_score(y, NuSVC(nu=0.02).fit(x, y).predict(x))"
   ]
  },
  {
   "cell_type": "code",
   "execution_count": 46,
   "metadata": {},
   "outputs": [
    {
     "data": {
      "text/plain": [
       "array([[  0,   0,   0,   0,   0,   0,   0,   0,   0,   0,  56,   0],\n",
       "       [  0,   0,   0,   0,   0,   0,   0,   0,   0,   0,  29,   0],\n",
       "       [  0,   0,   0,   0,   0,   0,   0,   0,   4,   0,  82,   0],\n",
       "       [  0,   0,   0,   0,   0,   0,   0,   0,  13,   0, 135,  19],\n",
       "       [  0,   0,   0,   0,   0,   0,   0,   0,  12,   0, 118,   0],\n",
       "       [  0,   0,   0,   0,   0,   0,   0,   0,   0,   0, 101,   0],\n",
       "       [  0,   0,   0,   0,   0,   0,   0,   0,  21,   0, 136,   4],\n",
       "       [  0,   0,   0,   0,   0,   0,   0,   0,   0,   0,  25,   0],\n",
       "       [  0,   0,   0,   0,   0,   0,   0,   0,  97,   0, 382,   5],\n",
       "       [  0,   0,   0,   0,   0,   0,   0,   0,   2,   0,  92,   1],\n",
       "       [  0,   0,   0,   0,   0,   0,   0,   0,   0,   0,   8,   0],\n",
       "       [  0,   0,   0,   0,   0,   0,   0,   0,   3,   0,  63,   1]],\n",
       "      dtype=int64)"
      ]
     },
     "execution_count": 46,
     "metadata": {},
     "output_type": "execute_result"
    }
   ],
   "source": [
    "confusion_matrix(y, NuSVC(nu=0.02).fit(x, y).predict(x))"
   ]
  },
  {
   "cell_type": "code",
   "execution_count": 47,
   "metadata": {},
   "outputs": [
    {
     "data": {
      "text/plain": [
       "0.3534421575585522"
      ]
     },
     "execution_count": 47,
     "metadata": {},
     "output_type": "execute_result"
    }
   ],
   "source": [
    "accuracy_score(y, SVC().fit(x, y).predict(x))"
   ]
  },
  {
   "cell_type": "code",
   "execution_count": 48,
   "metadata": {},
   "outputs": [
    {
     "data": {
      "text/plain": [
       "array([[  0,   0,   0,   0,   0,   0,   0,   0,  56,   0,   0,   0],\n",
       "       [  0,   0,   0,   0,   0,   0,   0,   0,  29,   0,   0,   0],\n",
       "       [  0,   0,   0,   0,   0,   0,   0,   0,  86,   0,   0,   0],\n",
       "       [  0,   0,   0,  19,   0,   0,   0,   0, 148,   0,   0,   0],\n",
       "       [  0,   0,   0,   0,   0,   0,   0,   0, 130,   0,   0,   0],\n",
       "       [  0,   0,   0,   0,   0,   0,   0,   0, 101,   0,   0,   0],\n",
       "       [  0,   0,   0,   4,   0,   0,   0,   0, 157,   0,   0,   0],\n",
       "       [  0,   0,   0,   0,   0,   0,   0,   0,  25,   0,   0,   0],\n",
       "       [  0,   0,   0,   5,   0,   0,   0,   0, 479,   0,   0,   0],\n",
       "       [  0,   0,   0,   1,   0,   0,   0,   0,  94,   0,   0,   0],\n",
       "       [  0,   0,   0,   0,   0,   0,   0,   0,   8,   0,   0,   0],\n",
       "       [  0,   0,   0,   1,   0,   0,   0,   0,  66,   0,   0,   0]],\n",
       "      dtype=int64)"
      ]
     },
     "execution_count": 48,
     "metadata": {},
     "output_type": "execute_result"
    }
   ],
   "source": [
    "confusion_matrix(y, SVC().fit(x, y).predict(x))"
   ]
  },
  {
   "cell_type": "code",
   "execution_count": 49,
   "metadata": {},
   "outputs": [
    {
     "data": {
      "text/plain": [
       "0.3534421575585522"
      ]
     },
     "execution_count": 49,
     "metadata": {},
     "output_type": "execute_result"
    }
   ],
   "source": [
    "accuracy_score(y, DecisionTreeClassifier().fit(x, y).predict(x))"
   ]
  },
  {
   "cell_type": "code",
   "execution_count": 50,
   "metadata": {},
   "outputs": [
    {
     "data": {
      "text/plain": [
       "array([[  0,   0,   0,   0,   0,   0,   0,   0,  56,   0,   0,   0],\n",
       "       [  0,   0,   0,   0,   0,   0,   0,   0,  29,   0,   0,   0],\n",
       "       [  0,   0,   0,   0,   0,   0,   0,   0,  86,   0,   0,   0],\n",
       "       [  0,   0,   0,  19,   0,   0,   0,   0, 148,   0,   0,   0],\n",
       "       [  0,   0,   0,   0,   0,   0,   0,   0, 130,   0,   0,   0],\n",
       "       [  0,   0,   0,   0,   0,   0,   0,   0, 101,   0,   0,   0],\n",
       "       [  0,   0,   0,   4,   0,   0,   0,   0, 157,   0,   0,   0],\n",
       "       [  0,   0,   0,   0,   0,   0,   0,   0,  25,   0,   0,   0],\n",
       "       [  0,   0,   0,   5,   0,   0,   0,   0, 479,   0,   0,   0],\n",
       "       [  0,   0,   0,   1,   0,   0,   0,   0,  94,   0,   0,   0],\n",
       "       [  0,   0,   0,   0,   0,   0,   0,   0,   8,   0,   0,   0],\n",
       "       [  0,   0,   0,   1,   0,   0,   0,   0,  66,   0,   0,   0]],\n",
       "      dtype=int64)"
      ]
     },
     "execution_count": 50,
     "metadata": {},
     "output_type": "execute_result"
    }
   ],
   "source": [
    "confusion_matrix(y, DecisionTreeClassifier().fit(x, y).predict(x))"
   ]
  },
  {
   "cell_type": "code",
   "execution_count": 51,
   "metadata": {},
   "outputs": [
    {
     "data": {
      "text/plain": [
       "0.3534421575585522"
      ]
     },
     "execution_count": 51,
     "metadata": {},
     "output_type": "execute_result"
    }
   ],
   "source": [
    "accuracy_score(y, ExtraTreeClassifier().fit(x, y).predict(x))"
   ]
  },
  {
   "cell_type": "code",
   "execution_count": 52,
   "metadata": {},
   "outputs": [
    {
     "data": {
      "text/plain": [
       "array([[  0,   0,   0,   0,   0,   0,   0,   0,  56,   0,   0,   0],\n",
       "       [  0,   0,   0,   0,   0,   0,   0,   0,  29,   0,   0,   0],\n",
       "       [  0,   0,   0,   0,   0,   0,   0,   0,  86,   0,   0,   0],\n",
       "       [  0,   0,   0,  19,   0,   0,   0,   0, 148,   0,   0,   0],\n",
       "       [  0,   0,   0,   0,   0,   0,   0,   0, 130,   0,   0,   0],\n",
       "       [  0,   0,   0,   0,   0,   0,   0,   0, 101,   0,   0,   0],\n",
       "       [  0,   0,   0,   4,   0,   0,   0,   0, 157,   0,   0,   0],\n",
       "       [  0,   0,   0,   0,   0,   0,   0,   0,  25,   0,   0,   0],\n",
       "       [  0,   0,   0,   5,   0,   0,   0,   0, 479,   0,   0,   0],\n",
       "       [  0,   0,   0,   1,   0,   0,   0,   0,  94,   0,   0,   0],\n",
       "       [  0,   0,   0,   0,   0,   0,   0,   0,   8,   0,   0,   0],\n",
       "       [  0,   0,   0,   1,   0,   0,   0,   0,  66,   0,   0,   0]],\n",
       "      dtype=int64)"
      ]
     },
     "execution_count": 52,
     "metadata": {},
     "output_type": "execute_result"
    }
   ],
   "source": [
    "confusion_matrix(y, ExtraTreeClassifier().fit(x, y).predict(x))"
   ]
  },
  {
   "cell_type": "code",
   "execution_count": null,
   "metadata": {},
   "outputs": [],
   "source": []
  }
 ],
 "metadata": {
  "kernelspec": {
   "display_name": "Python 3",
   "language": "python",
   "name": "python3"
  },
  "language_info": {
   "codemirror_mode": {
    "name": "ipython",
    "version": 3
   },
   "file_extension": ".py",
   "mimetype": "text/x-python",
   "name": "python",
   "nbconvert_exporter": "python",
   "pygments_lexer": "ipython3",
   "version": "3.7.4"
  }
 },
 "nbformat": 4,
 "nbformat_minor": 4
}
