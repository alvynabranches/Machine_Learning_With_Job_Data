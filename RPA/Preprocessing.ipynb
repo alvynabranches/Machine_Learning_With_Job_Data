{
 "cells": [
  {
   "cell_type": "code",
   "execution_count": 1,
   "metadata": {},
   "outputs": [
    {
     "name": "stderr",
     "output_type": "stream",
     "text": [
      "C:\\ProgramData\\Anaconda3\\lib\\site-packages\\dask\\dataframe\\utils.py:14: FutureWarning: pandas.util.testing is deprecated. Use the functions in the public API at pandas.testing instead.\n",
      "  import pandas.util.testing as tm\n"
     ]
    }
   ],
   "source": [
    "import os\n",
    "import numpy as np\n",
    "import pandas as pd\n",
    "import dask.dataframe as dd"
   ]
  },
  {
   "cell_type": "code",
   "execution_count": 2,
   "metadata": {},
   "outputs": [],
   "source": [
    "from preprocessing import preprocess"
   ]
  },
  {
   "cell_type": "code",
   "execution_count": 3,
   "metadata": {},
   "outputs": [
    {
     "name": "stdout",
     "output_type": "stream",
     "text": [
      "Wall time: 1.27 s\n"
     ]
    }
   ],
   "source": [
    "%%time\n",
    "df = pd.read_excel('indeed_results_new.xlsx')\n",
    "for n, file in enumerate(os.listdir('data/')):\n",
    "    if file.endswith('.xlsx'):\n",
    "        print(f'{n+1}, {file}')\n",
    "        df = df.append(pd.read_excel('data/'+file), ignore_index=True)\n",
    "        df.drop_duplicates().to_excel('indeed_results_new.xlsx', index=False)\n",
    "        os.remove('data/'+file)"
   ]
  },
  {
   "cell_type": "code",
   "execution_count": 4,
   "metadata": {},
   "outputs": [],
   "source": [
    "df = pd.read_excel('indeed_results_new.xlsx')"
   ]
  },
  {
   "cell_type": "code",
   "execution_count": 5,
   "metadata": {},
   "outputs": [
    {
     "data": {
      "text/html": [
       "<div>\n",
       "<style scoped>\n",
       "    .dataframe tbody tr th:only-of-type {\n",
       "        vertical-align: middle;\n",
       "    }\n",
       "\n",
       "    .dataframe tbody tr th {\n",
       "        vertical-align: top;\n",
       "    }\n",
       "\n",
       "    .dataframe thead th {\n",
       "        text-align: right;\n",
       "    }\n",
       "</style>\n",
       "<table border=\"1\" class=\"dataframe\">\n",
       "  <thead>\n",
       "    <tr style=\"text-align: right;\">\n",
       "      <th></th>\n",
       "      <th>Title</th>\n",
       "      <th>Location</th>\n",
       "      <th>Company</th>\n",
       "      <th>Salary</th>\n",
       "      <th>Sponsored</th>\n",
       "      <th>Description</th>\n",
       "      <th>Time</th>\n",
       "    </tr>\n",
       "  </thead>\n",
       "  <tbody>\n",
       "    <tr>\n",
       "      <th>0</th>\n",
       "      <td>PGT Art 'N' Craft</td>\n",
       "      <td>Jhumri Tilaiya, Jharkhand</td>\n",
       "      <td>GRIZZLY VIDYALAYA</td>\n",
       "      <td>₹22,000 - ₹25,000 a month</td>\n",
       "      <td>Sponsored</td>\n",
       "      <td>Job Summary\\nGRIZZLY VIDYALAYA : An ISO 9001:2...</td>\n",
       "      <td>2020-02-10</td>\n",
       "    </tr>\n",
       "    <tr>\n",
       "      <th>1</th>\n",
       "      <td>TGT BIOLOGY</td>\n",
       "      <td>Jhumri Tilaiya, Jharkhand</td>\n",
       "      <td>GRIZZLY VIDYALAYA</td>\n",
       "      <td>₹22,000 - ₹28,000 a month</td>\n",
       "      <td>Sponsored</td>\n",
       "      <td>Job Summary\\nGRIZZLY VIDYALAYA : An ISO 9001:2...</td>\n",
       "      <td>2020-02-22</td>\n",
       "    </tr>\n",
       "    <tr>\n",
       "      <th>2</th>\n",
       "      <td>TGT COMPUTER 6-8</td>\n",
       "      <td>Jhumri Tilaiya, Jharkhand</td>\n",
       "      <td>GRIZZLY VIDYALAYA</td>\n",
       "      <td>₹16,000 - ₹20,000 a month</td>\n",
       "      <td>Sponsored</td>\n",
       "      <td>Job Summary\\nGRIZZLY VIDYALAYA : An ISO 9001:2...</td>\n",
       "      <td>2020-02-22</td>\n",
       "    </tr>\n",
       "    <tr>\n",
       "      <th>3</th>\n",
       "      <td>Fashion Design faculty</td>\n",
       "      <td>Chinchwad, Pune, Maharashtra</td>\n",
       "      <td>Times and Trends Academy Chinchwad</td>\n",
       "      <td>₹20,000 a month</td>\n",
       "      <td>Sponsored</td>\n",
       "      <td>Job Summary\\nIf you are interested in a high-g...</td>\n",
       "      <td>2020-02-17</td>\n",
       "    </tr>\n",
       "    <tr>\n",
       "      <th>4</th>\n",
       "      <td>Data Entry Back Office</td>\n",
       "      <td>Gwalior, Madhya Pradesh</td>\n",
       "      <td>World Collection</td>\n",
       "      <td>₹45,000 a month</td>\n",
       "      <td>Organic</td>\n",
       "      <td>Locality- Birla Nagar, Kailash Nagar, Malanpur...</td>\n",
       "      <td>2020-02-25</td>\n",
       "    </tr>\n",
       "    <tr>\n",
       "      <th>...</th>\n",
       "      <td>...</td>\n",
       "      <td>...</td>\n",
       "      <td>...</td>\n",
       "      <td>...</td>\n",
       "      <td>...</td>\n",
       "      <td>...</td>\n",
       "      <td>...</td>\n",
       "    </tr>\n",
       "    <tr>\n",
       "      <th>17133</th>\n",
       "      <td>Accounts Executive</td>\n",
       "      <td>Pune</td>\n",
       "      <td>DVC Process Technologists</td>\n",
       "      <td>₹15,000 - ₹20,000 a month</td>\n",
       "      <td>Organic</td>\n",
       "      <td>Job Summary\\nAccounts Payable including bill b...</td>\n",
       "      <td>2020-03-04</td>\n",
       "    </tr>\n",
       "    <tr>\n",
       "      <th>17134</th>\n",
       "      <td>Club Lounge Agent</td>\n",
       "      <td>Pune</td>\n",
       "      <td>Marriott International, Inc</td>\n",
       "      <td>NaN</td>\n",
       "      <td>Organic</td>\n",
       "      <td>Posting Date Mar 02, 2020\\nJob Number 20028713...</td>\n",
       "      <td>2020-03-04</td>\n",
       "    </tr>\n",
       "    <tr>\n",
       "      <th>17135</th>\n",
       "      <td>Customer Assistant</td>\n",
       "      <td>Pune</td>\n",
       "      <td>credence resource management</td>\n",
       "      <td>₹20,668 - ₹35,800 a year</td>\n",
       "      <td>Organic</td>\n",
       "      <td>Greeting of the day\\nwe are hiring urgently fo...</td>\n",
       "      <td>2020-02-25</td>\n",
       "    </tr>\n",
       "    <tr>\n",
       "      <th>17136</th>\n",
       "      <td>Inside Sales Executive</td>\n",
       "      <td>Pune</td>\n",
       "      <td>The Learners Camp</td>\n",
       "      <td>₹4,00,000 a year</td>\n",
       "      <td>Organic</td>\n",
       "      <td>We sell high-quality online courses on a varie...</td>\n",
       "      <td>2020-02-28</td>\n",
       "    </tr>\n",
       "    <tr>\n",
       "      <th>17137</th>\n",
       "      <td>Quotes Coordinator (Moving)</td>\n",
       "      <td>Pune</td>\n",
       "      <td>Move One</td>\n",
       "      <td>NaN</td>\n",
       "      <td>Organic</td>\n",
       "      <td>Job Description\\n\\nPosition Purpose\\n\\nReporti...</td>\n",
       "      <td>NaN</td>\n",
       "    </tr>\n",
       "  </tbody>\n",
       "</table>\n",
       "<p>17138 rows × 7 columns</p>\n",
       "</div>"
      ],
      "text/plain": [
       "                             Title                      Location  \\\n",
       "0                PGT Art 'N' Craft     Jhumri Tilaiya, Jharkhand   \n",
       "1                      TGT BIOLOGY     Jhumri Tilaiya, Jharkhand   \n",
       "2                 TGT COMPUTER 6-8     Jhumri Tilaiya, Jharkhand   \n",
       "3           Fashion Design faculty  Chinchwad, Pune, Maharashtra   \n",
       "4           Data Entry Back Office       Gwalior, Madhya Pradesh   \n",
       "...                            ...                           ...   \n",
       "17133           Accounts Executive                          Pune   \n",
       "17134            Club Lounge Agent                          Pune   \n",
       "17135           Customer Assistant                          Pune   \n",
       "17136       Inside Sales Executive                          Pune   \n",
       "17137  Quotes Coordinator (Moving)                          Pune   \n",
       "\n",
       "                                  Company                     Salary  \\\n",
       "0                       GRIZZLY VIDYALAYA  ₹22,000 - ₹25,000 a month   \n",
       "1                       GRIZZLY VIDYALAYA  ₹22,000 - ₹28,000 a month   \n",
       "2                       GRIZZLY VIDYALAYA  ₹16,000 - ₹20,000 a month   \n",
       "3      Times and Trends Academy Chinchwad            ₹20,000 a month   \n",
       "4                        World Collection            ₹45,000 a month   \n",
       "...                                   ...                        ...   \n",
       "17133           DVC Process Technologists  ₹15,000 - ₹20,000 a month   \n",
       "17134         Marriott International, Inc                        NaN   \n",
       "17135        credence resource management   ₹20,668 - ₹35,800 a year   \n",
       "17136                   The Learners Camp           ₹4,00,000 a year   \n",
       "17137                            Move One                        NaN   \n",
       "\n",
       "       Sponsored                                        Description  \\\n",
       "0      Sponsored  Job Summary\\nGRIZZLY VIDYALAYA : An ISO 9001:2...   \n",
       "1      Sponsored  Job Summary\\nGRIZZLY VIDYALAYA : An ISO 9001:2...   \n",
       "2      Sponsored  Job Summary\\nGRIZZLY VIDYALAYA : An ISO 9001:2...   \n",
       "3      Sponsored  Job Summary\\nIf you are interested in a high-g...   \n",
       "4        Organic  Locality- Birla Nagar, Kailash Nagar, Malanpur...   \n",
       "...          ...                                                ...   \n",
       "17133    Organic  Job Summary\\nAccounts Payable including bill b...   \n",
       "17134    Organic  Posting Date Mar 02, 2020\\nJob Number 20028713...   \n",
       "17135    Organic  Greeting of the day\\nwe are hiring urgently fo...   \n",
       "17136    Organic  We sell high-quality online courses on a varie...   \n",
       "17137    Organic  Job Description\\n\\nPosition Purpose\\n\\nReporti...   \n",
       "\n",
       "             Time  \n",
       "0      2020-02-10  \n",
       "1      2020-02-22  \n",
       "2      2020-02-22  \n",
       "3      2020-02-17  \n",
       "4      2020-02-25  \n",
       "...           ...  \n",
       "17133  2020-03-04  \n",
       "17134  2020-03-04  \n",
       "17135  2020-02-25  \n",
       "17136  2020-02-28  \n",
       "17137         NaN  \n",
       "\n",
       "[17138 rows x 7 columns]"
      ]
     },
     "execution_count": 5,
     "metadata": {},
     "output_type": "execute_result"
    }
   ],
   "source": [
    "df"
   ]
  },
  {
   "cell_type": "code",
   "execution_count": 6,
   "metadata": {},
   "outputs": [
    {
     "data": {
      "text/plain": [
       "'If you have experience in native translations and language services, then we could be your partners!\\nAt Games2win, we excel at making casual, snacky Mobile Games. All our games are global and played by consumers all over the world. This is why we need them to be translated into over 20 languages. At the moment, we do all our translation sourcing via Upwork. We want to understand if we can work directly with long term and reliable partners!\\nWe are looking for Partners who:\\n– Have native, local teams of translators in the countries and the languages we are targeting.\\n– Be a professional business that can scale handle large volumes on our part.\\nIf this sounds exciting, please fill-up the short form below and we will get in touch with you!\\nhttps://forms.gle/9B8i8UfhmKeFYmodA'"
      ]
     },
     "execution_count": 6,
     "metadata": {},
     "output_type": "execute_result"
    }
   ],
   "source": [
    "df['Description'].unique()[np.random.randint(0, df['Description'].nunique())]"
   ]
  },
  {
   "cell_type": "code",
   "execution_count": 9,
   "metadata": {},
   "outputs": [],
   "source": [
    "def preprocessing_title_location_company(text):\n",
    "    removal_notations = [\"'\", '\"', '(', ')', '[', ']', '-', '/', '.', ',', '`', ':', '|', '\\\\', ';', '<', '>', '?', '~', '!', '#', '$', '%', '^', '*', '_', '+', '=', '{', '}']\n",
    "    for removal_notation in removal_notations:\n",
    "        for _ in range(20):\n",
    "            text.replace(removal_notation, ' ')\n",
    "    for _ in range(10):\n",
    "        text = text.replace('&', 'and')\n",
    "    for _ in range(10):\n",
    "        text = text.replace(\"  \", ' ')\n",
    "    return text"
   ]
  },
  {
   "cell_type": "code",
   "execution_count": 10,
   "metadata": {},
   "outputs": [],
   "source": [
    "def preprocessing_description(text):\n",
    "    removal_notations = [\"'\", '\"', '(', ')', '[', ']', '-', '/', '.', ',', '`', ':', '|', '\\\\', ';', '<', '>', '?', '~', '!', '#', '$', '%', '^', '*', '_', '+', '=', '{', '}']\n",
    "    for _ in range(100):\n",
    "        text = text.replace('\\n', ' ')\n",
    "    for removal_notation in removal_notations:\n",
    "        for _ in range(20):\n",
    "            text.replace(removal_notation, ' ')\n",
    "    for _ in range(10):\n",
    "        text = text.replace('&', 'and')\n",
    "    for _ in range(10):\n",
    "        text = text.replace(\"  \", ' ')\n",
    "    return text"
   ]
  },
  {
   "cell_type": "code",
   "execution_count": 11,
   "metadata": {},
   "outputs": [],
   "source": [
    "def preprocessing_salary(text):\n",
    "    removal_notations = [\"'\", '\"', '(', ')', '[', ']', '-', '/', '.', '`', ':', '|', '\\\\', ';', '<', '>', '?', '~', '!', '#', '$', '%', '^', '*', '_', '+', '=', '{', '}']\n",
    "    for removal_notation in removal_notations:\n",
    "        for _ in range(20):\n",
    "            text.replace(removal_notation, ' ')\n",
    "    for _ in range(10):\n",
    "        text = text.replace('&', 'and')\n",
    "    for _ in range(10):\n",
    "        text = text.replace(',', '')\n",
    "    for _ in range(10):\n",
    "        text = text.replace(\"  \", ' ')\n",
    "    return text"
   ]
  },
  {
   "cell_type": "code",
   "execution_count": 12,
   "metadata": {},
   "outputs": [],
   "source": [
    "df.dropna(inplace=True)"
   ]
  },
  {
   "cell_type": "code",
   "execution_count": 13,
   "metadata": {},
   "outputs": [],
   "source": [
    "%%time\n",
    "df['Title'] = df['Title'].apply(lambda x: preprocessing_title_location_company(x))\n",
    "df['Location'] = df['Location'].apply(lambda x: preprocessing_title_location_company(x))\n",
    "df['Company'] = df['Company'].apply(lambda x: preprocessing_title_location_company(x))\n",
    "df['Description'] = df['Description'].apply(lambda x: preprocessing_description(x))\n",
    "df['Salary'] = df['Salary'].apply(lambda x: preprocessing_salary(x))"
   ]
  },
  {
   "cell_type": "code",
   "execution_count": null,
   "metadata": {},
   "outputs": [],
   "source": []
  }
 ],
 "metadata": {
  "kernelspec": {
   "display_name": "Python 3",
   "language": "python",
   "name": "python3"
  },
  "language_info": {
   "codemirror_mode": {
    "name": "ipython",
    "version": 3
   },
   "file_extension": ".py",
   "mimetype": "text/x-python",
   "name": "python",
   "nbconvert_exporter": "python",
   "pygments_lexer": "ipython3",
   "version": "3.7.4"
  }
 },
 "nbformat": 4,
 "nbformat_minor": 2
}
